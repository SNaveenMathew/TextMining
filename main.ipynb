{
 "cells": [
  {
   "cell_type": "code",
   "execution_count": 1,
   "metadata": {
    "collapsed": true
   },
   "outputs": [],
   "source": [
    "# Loading required libraries and initializing\n",
    "from langdetect import DetectorFactory\n",
    "from pandas import Series, DataFrame\n",
    "from string import punctuation\n",
    "from numpy import zeros\n",
    "from pickle import dump\n",
    "#from os import chdir"
   ]
  },
  {
   "cell_type": "code",
   "execution_count": 2,
   "metadata": {},
   "outputs": [
    {
     "name": "stderr",
     "output_type": "stream",
     "text": [
      "C:\\Users\\naveen.nathan\\AppData\\Local\\Continuum\\anaconda3\\lib\\site-packages\\gensim\\utils.py:862: UserWarning: detected Windows; aliasing chunkize to chunkize_serial\n",
      "  warnings.warn(\"detected Windows; aliasing chunkize to chunkize_serial\")\n",
      "Using TensorFlow backend.\n"
     ]
    }
   ],
   "source": [
    "# Loading custom defined functions\n",
    "#wd = open('wd.cfg').read()\n",
    "#chdir(wd)\n",
    "from tokenization import tokenize_sentence_nltk#, tokenize_treetagger\n",
    "from util import read_file, flatten_list_of_list#, clean_sentences\n",
    "from util import pick_first_language, is_english_wp_p, spell_correct_tokens\n",
    "from util import detect_language, clean_strings\n",
    "from pos_tagging import run_treetagger_pos_tag_text\n",
    "from modeling import run_word2vec_model, apply_bigram_trigram_model\n",
    "from modeling import run_lda_topic_model, build_logistic_regression\n",
    "from visualizing import visualize_word2vec_model"
   ]
  },
  {
   "cell_type": "code",
   "execution_count": 3,
   "metadata": {
    "collapsed": true
   },
   "outputs": [],
   "source": [
    "DetectorFactory.seed = 0\n",
    "\n",
    "# Testing language\n",
    "in_file = open(\"in_file.cfg\").read()\n",
    "in_file = in_file.split(\"\\n\")\n",
    "label = in_file[3]\n",
    "col = in_file[2]\n",
    "in_type = in_file[1]\n",
    "in_file = in_file[0]\n",
    "strings = read_file(in_file, in_type = in_type)\n",
    "if(in_type == \"text\"):\n",
    "    strings = tokenize_sentence_nltk(strings)\n",
    "    strings = DataFrame(strings)[0]\n",
    "else:\n",
    "    if(label in strings.columns):\n",
    "        labels = strings[label]\n",
    "    strings = strings[col]\n",
    "\n",
    "strings = strings.apply(clean_strings)\n",
    "languages = strings.apply(detect_language)"
   ]
  },
  {
   "cell_type": "code",
   "execution_count": 4,
   "metadata": {
    "collapsed": true
   },
   "outputs": [],
   "source": [
    "# Picking the language with highest probability\n",
    "first_language = languages.apply(pick_first_language)"
   ]
  },
  {
   "cell_type": "code",
   "execution_count": 5,
   "metadata": {
    "collapsed": true
   },
   "outputs": [],
   "source": [
    "# Keeping only English text\n",
    "english_only = first_language.apply(is_english_wp_p)\n",
    "strings = strings[english_only]\n",
    "labels = labels[english_only].tolist()"
   ]
  },
  {
   "cell_type": "code",
   "execution_count": 6,
   "metadata": {
    "collapsed": true
   },
   "outputs": [],
   "source": [
    "# Processing English sentences:\n",
    "# 1) Splitting sentences\n",
    "sentences = strings.apply(tokenize_sentence_nltk)\n",
    "lengths = sentences.apply(len).tolist()\n",
    "new_labels = []\n",
    "for i in range(len(lengths)):\n",
    "    for j in range(lengths[i]):\n",
    "        new_labels.append(labels[i])\n",
    "new_labels = Series(new_labels)\n",
    "sentences1 = flatten_list_of_list(sentences)"
   ]
  },
  {
   "cell_type": "code",
   "execution_count": 7,
   "metadata": {
    "collapsed": true
   },
   "outputs": [],
   "source": [
    "# 2) Run part-of-speech tagging on clean sentences\n",
    "sentences1 = Series(sentences1)\n",
    "pos = sentences1.apply(run_treetagger_pos_tag_text).apply(DataFrame)"
   ]
  },
  {
   "cell_type": "code",
   "execution_count": 8,
   "metadata": {
    "collapsed": true
   },
   "outputs": [],
   "source": [
    "# 3) Spell correct - currently correct only disjoint words\n",
    "lengths = pos.apply(len)\n",
    "inc_sentences = sentences1[lengths == 0]\n",
    "inc_labels = new_labels[lengths == 0]\n",
    "pos = pos[lengths > 0]\n",
    "labels = new_labels[lengths > 0]\n",
    "sentence_tokens = pos.apply(spell_correct_tokens)"
   ]
  },
  {
   "cell_type": "code",
   "execution_count": 9,
   "metadata": {
    "collapsed": true
   },
   "outputs": [],
   "source": [
    "# 4) Combine tokens to form bigrams and trigrams\n",
    "# sentence_tokens = sentences.apply(tokenize_treetagger)\n",
    "trigrams = apply_bigram_trigram_model(sentence_tokens)"
   ]
  },
  {
   "cell_type": "code",
   "execution_count": 10,
   "metadata": {
    "collapsed": true
   },
   "outputs": [],
   "source": [
    "# 5) Form the sentence back from tokens\n",
    "sentences1 = [\"\".join([\" \"+i if not i.startswith(\"'\") and i not in punctuation\n",
    "                       else i for i in tokens]).strip() for tokens in trigrams]\n",
    "sentences1 = sentences1 + inc_sentences.tolist()\n",
    "labels = labels.tolist() + inc_labels.tolist()"
   ]
  },
  {
   "cell_type": "code",
   "execution_count": 11,
   "metadata": {
    "collapsed": true
   },
   "outputs": [],
   "source": [
    "# 6) Write clean text to text file - one line per sentence\n",
    "out_file = open(\"sample.txt\", \"w\")\n",
    "for sent in sentences1:\n",
    "    out_file.write(sent.lower().replace(\"( \", \"(\").replace(\" )\", \")\").replace(\"replaced-dns \", \"\")+\"\\n\")\n",
    "out_file.close()"
   ]
  },
  {
   "cell_type": "code",
   "execution_count": 14,
   "metadata": {},
   "outputs": [],
   "source": [
    "# 7) Run word2vec model and store word representations\n",
    "model = run_word2vec_model(\"sample.txt\")\n",
    "model.wv.save_word2vec_format(\"big.w2v\")"
   ]
  },
  {
   "cell_type": "code",
   "execution_count": 17,
   "metadata": {},
   "outputs": [
    {
     "data": {
      "image/png": "[encoded data removed]",
      "text/plain": [
       "<matplotlib.figure.Figure at 0x1321df8630>"
      ]
     },
     "metadata": {},
     "output_type": "display_data"
    }
   ],
   "source": [
    "# 8) Visualizing the word2vec model\n",
    "visualize_word2vec_model(model)"
   ]
  },
  {
   "cell_type": "code",
   "execution_count": 18,
   "metadata": {
    "collapsed": true
   },
   "outputs": [],
   "source": [
    "# 9) Setting up the data for building logistic regression model\n",
    "df = zeros((len(sentences1), 100))\n",
    "for i, words in enumerate(trigrams):\n",
    "    for word in words:\n",
    "        try:\n",
    "            df[i] = df[i] + model[word]\n",
    "        except:\n",
    "            continue\n",
    "\n",
    "while(i<len(sentences1)):\n",
    "    i += 1\n",
    "\n",
    "df = DataFrame(df)\n",
    "df[label] = labels"
   ]
  },
  {
   "cell_type": "code",
   "execution_count": 19,
   "metadata": {
    "collapsed": true
   },
   "outputs": [],
   "source": [
    "# 10) Building and saving the logistic regression model with L1 penalty\n",
    "lr_model = build_logistic_regression(df, label)\n",
    "dump(lr_model, open(\"logistic_model.pkl\", 'wb'))"
   ]
  },
  {
   "cell_type": "code",
   "execution_count": 26,
   "metadata": {},
   "outputs": [
    {
     "name": "stdout",
     "output_type": "stream",
     "text": [
      "0.025*\"ceo\" + 0.025*\"trying\" + 0.025*\"fire\" + 0.025*\"someone\" + 0.025*\"overheard\" + 0.024*\"done\" + 0.024*\"good\" + 0.024*\"needs\" + 0.024*\"well\" + 0.024*\"quarter\"\n",
      "0.024*\"needs\" + 0.024*\"mass\" + 0.024*\"team\" + 0.024*\"performing\" + 0.024*\"well\" + 0.024*\"quarter\" + 0.024*\"done\" + 0.024*\"good\" + 0.024*\"job\" + 0.024*\"attend\"\n",
      "0.025*\"increase\" + 0.025*\"200.\" + 0.025*\"number\" + 0.025*\"employees\" + 0.025*\"going\" + 0.025*\"recruitment\" + 0.025*\"done\" + 0.025*\"good\" + 0.025*\"heard\" + 0.025*\"job\"\n"
     ]
    }
   ],
   "source": [
    "# 11) Topic modeling (Optional)\n",
    "lda_model = run_lda_topic_model(text_file = \"sample_cleaned.txt\")\n",
    "# Sample topic modeling output - Topic 1\n",
    "for i in range(3):\n",
    "    print(lda_model.print_topic(i+1))"
   ]
  },
  {
   "cell_type": "code",
   "execution_count": 41,
   "metadata": {},
   "outputs": [
    {
     "name": "stdout",
     "output_type": "stream",
     "text": [
      "[(31, 0.55666666666666753), (34, 0.33444444444444488)]\n",
      "[(34, 0.36454545454545501), (42, 0.54636363636363705)]\n",
      "[(7, 0.20146638320828977), (31, 0.16722222222222194), (34, 0.056111111111111021), (42, 0.11166666666666648), (58, 0.18853361679170963), (71, 0.22277777777777741)]\n",
      "[(7, 0.056111111111111042), (31, 0.22277777777777749), (34, 0.11166666666666653), (41, 0.16722222222222199), (42, 0.11166666666666653), (58, 0.11166666666666653), (71, 0.056111111111111042), (79, 0.11166666666666653)]\n"
     ]
    }
   ],
   "source": [
    "from gensim import corpora\n",
    "texts = open(\"sample_cleaned.txt\", \"r\").read().split(\"\\n\")\n",
    "texts = [text.split(\" \") for text in texts]\n",
    "dictionary = corpora.Dictionary(texts)\n",
    "for i in range(4):\n",
    "    text = dictionary.doc2bow(texts[i])\n",
    "    print(lda_model.get_document_topics(bow = text))\n"
   ]
  },
  {
   "cell_type": "code",
   "execution_count": null,
   "metadata": {
    "collapsed": true
   },
   "outputs": [],
   "source": []
  }
 ],
 "metadata": {
  "kernelspec": {
   "display_name": "Python 3",
   "language": "python",
   "name": "python3"
  },
  "language_info": {
   "codemirror_mode": {
    "name": "ipython",
    "version": 3
   },
   "file_extension": ".py",
   "mimetype": "text/x-python",
   "name": "python",
   "nbconvert_exporter": "python",
   "pygments_lexer": "ipython3",
   "version": "3.6.3"
  }
 },
 "nbformat": 4,
 "nbformat_minor": 2
}

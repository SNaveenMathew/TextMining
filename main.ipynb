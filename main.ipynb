{
 "cells": [
  {
   "cell_type": "code",
   "execution_count": 1,
   "metadata": {},
   "outputs": [],
   "source": [
    "# Loading required libraries and initializing\n",
    "from langdetect import DetectorFactory\n",
    "from pandas import Series, DataFrame\n",
    "from string import punctuation\n",
    "from nltk.tokenize import word_tokenize\n",
    "#from numpy import zeros\n",
    "#from pickle import dump\n",
    "#from os import chdir"
   ]
  },
  {
   "cell_type": "code",
   "execution_count": 2,
   "metadata": {},
   "outputs": [],
   "source": [
    "# Loading custom defined functions\n",
    "#wd = open('wd.cfg').read()\n",
    "#chdir(wd)\n",
    "from tokenization import tokenize_sentence_nltk#, tokenize_treetagger\n",
    "from util import read_file, flatten_list_of_list, read_folder#, clean_sentences\n",
    "from util import pick_first_language, is_english_wp_p, spell_correct_tokens\n",
    "from util import detect_language, clean_strings, get_redundaunt_info\n",
    "from util import filter_data, filter_senders, filter_recipients, search_patterns\n",
    "from pos_tagging import nltk_pos_tag\n",
    "from modeling import apply_bigram_trigram_model\n",
    "from nltk.stem import WordNetLemmatizer\n",
    "from modeling import run_word2vec_model, run_lda_topic_model, build_logistic_regression\n",
    "from visualizing import visualize_word2vec_model"
   ]
  },
  {
   "cell_type": "code",
   "execution_count": 3,
   "metadata": {},
   "outputs": [],
   "source": [
    "DetectorFactory.seed = 0\n",
    "wnl = WordNetLemmatizer()\n",
    "\n",
    "in_file = open(\"in_file.cfg\").read()\n",
    "in_file = in_file.split(\"\\n\")\n",
    "patterns_file = in_file[5]\n",
    "file_folder = in_file[4]\n",
    "label = in_file[3]\n",
    "col = in_file[2]\n",
    "in_type = in_file[1]\n",
    "in_file = in_file[0]\n",
    "if file_folder == \"file\":\n",
    "    strings = read_file(in_file, in_type = in_type)\n",
    "    if in_type == \"text\":\n",
    "        strings = tokenize_sentence_nltk(strings)\n",
    "        strings = DataFrame(strings)[0]\n",
    "    elif in_type == \"html\":\n",
    "        timestamp = strings[2]\n",
    "        meta_data = strings[1]\n",
    "        strings = strings[0]\n",
    "        strings[label] = meta_data[\"Comment\"]\n",
    "        labels = strings[label]\n",
    "        strings = strings[col]\n",
    "    else:\n",
    "        if label in strings.columns:\n",
    "            labels = strings[label]\n",
    "        strings = strings[col]\n",
    "else:\n",
    "    strings = read_folder(in_file, in_type = in_type)\n",
    "    patterns = Series([\".*\" + x + \".*\" for x in open(patterns_file, 'r').readlines()])"
   ]
  },
  {
   "cell_type": "code",
   "execution_count": 4,
   "metadata": {},
   "outputs": [],
   "source": [
    "redundant = get_redundaunt_info(strings)\n",
    "total_redundant = redundant.sum()"
   ]
  },
  {
   "cell_type": "code",
   "execution_count": 5,
   "metadata": {},
   "outputs": [],
   "source": [
    "from re import findall\n",
    "unnecessary1 = strings['sender'].apply(lambda x: len(findall(\"^gg.*\", x.lower())) > 0)\n",
    "unnecessary2 = strings['participants'].apply(lambda x: len(findall(\"^gg.*|\\;gg.*\", x)) > 0)\n",
    "unnecessary = unnecessary1 | unnecessary2\n",
    "total_unnecessary = unnecessary.sum()"
   ]
  },
  {
   "cell_type": "code",
   "execution_count": 6,
   "metadata": {},
   "outputs": [],
   "source": [
    "# Some deduplication to be done here to keep the remaining steps same\n",
    "strings = filter_data(strings)"
   ]
  },
  {
   "cell_type": "code",
   "execution_count": 7,
   "metadata": {},
   "outputs": [],
   "source": [
    "strings = filter_senders(strings)\n",
    "strings = filter_recipients(strings)\n",
    "strings1 = strings.drop(['messages'], axis = 1).reset_index(drop = True)\n",
    "strings = strings['messages'].reset_index(drop = True)\n",
    "strings = strings.apply(lambda x: \" \".join(x))\n",
    "strings = strings.apply(clean_strings)\n",
    "languages = strings.apply(detect_language)\n",
    "\n",
    "# Picking the language with highest probability\n",
    "first_language = languages.apply(pick_first_language)\n",
    "\n",
    "# Keeping only English text\n",
    "english_only = first_language.apply(is_english_wp_p)\n",
    "strings = strings[english_only]\n",
    "# labels = labels[english_only].tolist()\n",
    "\n",
    "from pandas import concat\n",
    "strings1 = concat([strings, strings1], axis = 1)\n",
    "strings1.to_excel(\"strings_with_meta_data.xlsx\")"
   ]
  },
  {
   "cell_type": "code",
   "execution_count": 8,
   "metadata": {},
   "outputs": [],
   "source": [
    "# Processing English sentences:\n",
    "# 1) Splitting sentences\n",
    "sentences = strings.apply(tokenize_sentence_nltk)\n",
    "lengths = sentences.apply(len).tolist()\n",
    "# new_labels = []\n",
    "# for i in range(len(lengths)):\n",
    "#     for j in range(lengths[i]):\n",
    "#         new_labels.append(labels[i])\n",
    "# new_labels = Series(new_labels)\n",
    "sentences1 = flatten_list_of_list(sentences)"
   ]
  },
  {
   "cell_type": "code",
   "execution_count": 9,
   "metadata": {},
   "outputs": [],
   "source": [
    "# 2) Run part-of-speech tagging on clean sentences\n",
    "sentences1 = Series(sentences1)\n",
    "pos = sentences1.apply(word_tokenize).apply(nltk_pos_tag).apply(DataFrame)"
   ]
  },
  {
   "cell_type": "code",
   "execution_count": 10,
   "metadata": {},
   "outputs": [],
   "source": [
    "# 3) Spell correct - currently correct only disjoint words\n",
    "lengths = pos.apply(len)\n",
    "inc_sentences = sentences1[lengths == 0]\n",
    "# inc_labels = new_labels[lengths == 0]\n",
    "pos = pos[lengths > 0]\n",
    "# labels = new_labels[lengths > 0]\n",
    "sentence_tokens = pos.apply(spell_correct_tokens)"
   ]
  },
  {
   "cell_type": "code",
   "execution_count": 11,
   "metadata": {},
   "outputs": [
    {
     "name": "stderr",
     "output_type": "stream",
     "text": [
      "C:\\Users\\naveen.nathan\\AppData\\Local\\Continuum\\anaconda3\\lib\\site-packages\\gensim\\utils.py:862: UserWarning: detected Windows; aliasing chunkize to chunkize_serial\n",
      "  warnings.warn(\"detected Windows; aliasing chunkize to chunkize_serial\")\n",
      "Using TensorFlow backend.\n"
     ]
    }
   ],
   "source": [
    "# 4) Combine tokens to form bigrams and trigrams\n",
    "# sentence_tokens = sentences.apply(tokenize_treetagger)\n",
    "trigrams = apply_bigram_trigram_model(sentence_tokens)"
   ]
  },
  {
   "cell_type": "code",
   "execution_count": 12,
   "metadata": {},
   "outputs": [],
   "source": [
    "# 5) Form the sentence back from tokens\n",
    "sentences1 = [\"\".join([\" \"+wnl.lemmatize(i.lower()) if not i.startswith(\"'\") and i not in punctuation\n",
    "                       else i for i in tokens]).strip() for tokens in trigrams]\n",
    "# labels = labels.tolist() + inc_labels.tolist()"
   ]
  },
  {
   "cell_type": "code",
   "execution_count": 13,
   "metadata": {},
   "outputs": [],
   "source": [
    "# 6) Write clean text to text file - one line per sentence\n",
    "out_file = open(\"sample.txt\", \"w\")\n",
    "for sent in sentences1:\n",
    "    out_file.write(sent.lower().replace(\"( \", \"(\").replace(\" )\", \")\").replace(\"replaced-dns \", \"\")+\"\\n\")\n",
    "\n",
    "out_file.close()"
   ]
  },
  {
   "cell_type": "code",
   "execution_count": 14,
   "metadata": {},
   "outputs": [],
   "source": [
    "# 7) Run word2vec model and store word representations\n",
    "model = run_word2vec_model(\"sample.txt\")\n",
    "model.wv.save_word2vec_format(\"big.w2v\")"
   ]
  },
  {
   "cell_type": "code",
   "execution_count": 15,
   "metadata": {},
   "outputs": [
    {
     "data": {
      "image/png": "[encoded data removed]",
      "text/plain": [
       "<matplotlib.figure.Figure at 0xf1f79df5c0>"
      ]
     },
     "metadata": {},
     "output_type": "display_data"
    }
   ],
   "source": [
    "# 8) Visualizing the word2vec model\n",
    "visualize_word2vec_model(model)"
   ]
  },
  {
   "cell_type": "code",
   "execution_count": 17,
   "metadata": {},
   "outputs": [
    {
     "name": "stdout",
     "output_type": "stream",
     "text": [
      "0     0\n",
      "1     0\n",
      "2     0\n",
      "3     0\n",
      "4     0\n",
      "5     0\n",
      "6     0\n",
      "7     0\n",
      "8     0\n",
      "9     0\n",
      "10    0\n",
      "11    0\n",
      "dtype: int64\n"
     ]
    }
   ],
   "source": [
    "hits = strings.apply(lambda x: search_patterns(x, patterns))\n",
    "hits['any'] = hits.apply(sum, axis = 0)\n",
    "hit_strings = strings[hits['any'] > 0]\n",
    "# hit_strings = strings[hits]"
   ]
  },
  {
   "cell_type": "code",
   "execution_count": null,
   "metadata": {},
   "outputs": [],
   "source": [
    "# 9) Setting up the data for building logistic regression model\n",
    "#df = zeros((len(sentences1), 100))\n",
    "#for i, words in enumerate(trigrams):\n",
    "#    for word in words:\n",
    "#        try:\n",
    "#            df[i] = df[i] + model[word]\n",
    "#        except:\n",
    "#            continue\n",
    "\n",
    "#while(i<len(sentences1)):\n",
    "#    i += 1\n",
    "#\n",
    "#df = DataFrame(df)\n",
    "#df[label] = labels"
   ]
  },
  {
   "cell_type": "code",
   "execution_count": null,
   "metadata": {},
   "outputs": [],
   "source": [
    "# 10) Building and saving the logistic regression model with L1 penalty\n",
    "#lr_model = build_logistic_regression(df, label)\n",
    "#dump(lr_model, open(\"logistic_model.pkl\", 'wb'))"
   ]
  },
  {
   "cell_type": "code",
   "execution_count": null,
   "metadata": {},
   "outputs": [],
   "source": [
    "# 11) Topic modeling (Optional)\n",
    "#lda_model = run_lda_topic_model(text_file = \"sample_cleaned.txt\")\n",
    "# Sample topic modeling output - Topic 1\n",
    "#lda_model.print_topic(1)"
   ]
  }
 ],
 "metadata": {
  "kernelspec": {
   "display_name": "Python 3",
   "language": "python",
   "name": "python3"
  },
  "language_info": {
   "codemirror_mode": {
    "name": "ipython",
    "version": 3
   },
   "file_extension": ".py",
   "mimetype": "text/x-python",
   "name": "python",
   "nbconvert_exporter": "python",
   "pygments_lexer": "ipython3",
   "version": "3.6.3"
  }
 },
 "nbformat": 4,
 "nbformat_minor": 2
}

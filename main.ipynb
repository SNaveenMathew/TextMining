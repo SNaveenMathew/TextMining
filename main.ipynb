{
 "cells": [
  {
   "cell_type": "code",
   "execution_count": 1,
   "metadata": {},
   "outputs": [],
   "source": [
    "# Loading required libraries and initializing\n",
    "from langdetect import DetectorFactory\n",
    "from pandas import Series, DataFrame\n",
    "from string import punctuation\n",
    "from nltk.tokenize import word_tokenize\n",
    "#from numpy import zeros\n",
    "#from pickle import dump\n",
    "#from os import chdir"
   ]
  },
  {
   "cell_type": "code",
   "execution_count": 2,
   "metadata": {},
   "outputs": [],
   "source": [
    "# Loading custom defined functions\n",
    "#wd = open('wd.cfg').read()\n",
    "#chdir(wd)\n",
    "from tokenization import tokenize_sentence_nltk, tokenize_treetagger\n",
    "from util import read_file, flatten_list_of_list, read_folder#, clean_sentences\n",
    "from util import pick_first_language, is_english_wp_p, spell_correct_tokens\n",
    "from util import detect_language, clean_strings, get_redundaunt_info, is_in_words\n",
    "from util import filter_data, filter_senders, filter_recipients, search_patterns\n",
    "from pos_tagging import run_treetagger_pos_tag_text\n",
    "from modeling import apply_bigram_trigram_model, run_aff_prop_with_distances, run_kmeans\n",
    "from nltk.stem import WordNetLemmatizer\n",
    "from modeling import run_word2vec_model, run_lda_topic_model, build_logistic_regression\n",
    "from visualizing import visualize_word2vec_model\n",
    "from util import get_semantic_similarity, get_character_similarity\n",
    "from lemmatization import lemmatize_treetagger\n",
    "from util import run_treetagger"
   ]
  },
  {
   "cell_type": "code",
   "execution_count": 3,
   "metadata": {},
   "outputs": [],
   "source": [
    "DetectorFactory.seed = 0\n",
    "\n",
    "in_file = open(\"in_file.cfg\").read()\n",
    "in_file = in_file.split(\"\\n\")\n",
    "patterns_file = in_file[5]\n",
    "file_folder = in_file[4]\n",
    "label = in_file[3]\n",
    "col = in_file[2]\n",
    "in_type = in_file[1]\n",
    "in_file = in_file[0]\n",
    "if file_folder == \"file\":\n",
    "    strings = read_file(in_file, in_type = in_type)\n",
    "    if in_type == \"text\":\n",
    "        strings = tokenize_sentence_nltk(strings)\n",
    "        strings = DataFrame(strings)[0]\n",
    "    elif in_type == \"html\":\n",
    "        timestamp = strings[2]\n",
    "        meta_data = strings[1]\n",
    "        strings = strings[0]\n",
    "        strings[label] = meta_data[\"Comment\"]\n",
    "        labels = strings[label]\n",
    "        strings = strings[col]\n",
    "    else:\n",
    "        if label in strings.columns:\n",
    "            labels = strings[label]\n",
    "        strings = strings[col]\n",
    "else:\n",
    "    strings = read_folder(in_file, in_type = in_type)\n",
    "    patterns = Series([\".*\" + x + \".*\" for x in open(patterns_file, 'r').readlines()])"
   ]
  },
  {
   "cell_type": "code",
   "execution_count": 4,
   "metadata": {},
   "outputs": [
    {
     "data": {
      "text/html": [
       "<div>\n",
       "<style>\n",
       "    .dataframe thead tr:only-child th {\n",
       "        text-align: right;\n",
       "    }\n",
       "\n",
       "    .dataframe thead th {\n",
       "        text-align: left;\n",
       "    }\n",
       "\n",
       "    .dataframe tbody tr th {\n",
       "        vertical-align: top;\n",
       "    }\n",
       "</style>\n",
       "<table border=\"1\" class=\"dataframe\">\n",
       "  <thead>\n",
       "    <tr style=\"text-align: right;\">\n",
       "      <th></th>\n",
       "      <th>itemId</th>\n",
       "      <th>messageType</th>\n",
       "      <th>messageDirection</th>\n",
       "      <th>case</th>\n",
       "      <th>captureDate</th>\n",
       "      <th>policyAction</th>\n",
       "      <th>statusMarkDate</th>\n",
       "      <th>status</th>\n",
       "      <th>status_reviewer</th>\n",
       "      <th>commentDate</th>\n",
       "      <th>...</th>\n",
       "      <th>comment_reviewer</th>\n",
       "      <th>participants</th>\n",
       "      <th>timestamp</th>\n",
       "      <th>language</th>\n",
       "      <th>sender</th>\n",
       "      <th>recipients</th>\n",
       "      <th>subject</th>\n",
       "      <th>conversation</th>\n",
       "      <th>num_of_conversation_turns</th>\n",
       "      <th>messages</th>\n",
       "    </tr>\n",
       "  </thead>\n",
       "  <tbody>\n",
       "    <tr>\n",
       "      <th>0</th>\n",
       "      <td>33137034</td>\n",
       "      <td>exchange</td>\n",
       "      <td>internal</td>\n",
       "      <td>ch surveillance lync</td>\n",
       "      <td>14.06.2017 07:38:08</td>\n",
       "      <td>not specified</td>\n",
       "      <td>20.06.2017 09:29:44</td>\n",
       "      <td>not relevant</td>\n",
       "      <td>reviewer</td>\n",
       "      <td>14.06.2017 10:02:30</td>\n",
       "      <td>...</td>\n",
       "      <td>reviewer</td>\n",
       "      <td>(nan, person1 (tbl);person2 (zun), person2 (zun))</td>\n",
       "      <td>date dienstag, 13. juni 2017 14:30</td>\n",
       "      <td>en</td>\n",
       "      <td>person2 (zun)</td>\n",
       "      <td>person1 (tbl);person2 (zun);nan</td>\n",
       "      <td>IMChat MicrosoftUC Conversation #64240715</td>\n",
       "      <td>Sent Time (CEST) Network Message I...</td>\n",
       "      <td>12</td>\n",
       "      <td>(1Conversation started, Joined conversation, G...</td>\n",
       "    </tr>\n",
       "    <tr>\n",
       "      <th>1</th>\n",
       "      <td>33137034</td>\n",
       "      <td>exchange</td>\n",
       "      <td>internal</td>\n",
       "      <td>ch surveillance lync</td>\n",
       "      <td>14.06.2017 07:38:08</td>\n",
       "      <td>not specified</td>\n",
       "      <td>20.06.2017 09:29:44</td>\n",
       "      <td>not relevant</td>\n",
       "      <td>reviewer</td>\n",
       "      <td>14.06.2017 10:02:30</td>\n",
       "      <td>...</td>\n",
       "      <td>reviewer</td>\n",
       "      <td>(nan, person1 (tbl);person2 (zun), person2 (zun))</td>\n",
       "      <td>date dienstag, 13. juni 2017 14:30</td>\n",
       "      <td>en</td>\n",
       "      <td>person2 (zun)</td>\n",
       "      <td>person1 (tbl);person2 (zun);nan</td>\n",
       "      <td>IMChat MicrosoftUC Conversation #64240715</td>\n",
       "      <td>Sent Time (CEST) Network Message I...</td>\n",
       "      <td>12</td>\n",
       "      <td>(Conversation started, Joined conversation, Gu...</td>\n",
       "    </tr>\n",
       "    <tr>\n",
       "      <th>2</th>\n",
       "      <td>33137034</td>\n",
       "      <td>exchange</td>\n",
       "      <td>internal</td>\n",
       "      <td>ch surveillance lync</td>\n",
       "      <td>14.06.2017 07:38:08</td>\n",
       "      <td>not specified</td>\n",
       "      <td>20.06.2017 09:29:44</td>\n",
       "      <td>not relevant</td>\n",
       "      <td>reviewer</td>\n",
       "      <td>14.06.2017 10:02:30</td>\n",
       "      <td>...</td>\n",
       "      <td>reviewer</td>\n",
       "      <td>(nan, person1 (tbl);person2 (zun), person2 (zun))</td>\n",
       "      <td>date dienstag, 13. juni 2017 14:30</td>\n",
       "      <td>en</td>\n",
       "      <td>person2 (zun)</td>\n",
       "      <td>person1 (tbl);person2 (zun);nan</td>\n",
       "      <td>IMChat MicrosoftUC Conversation #64240715</td>\n",
       "      <td>Sent Time (CEST) Network Message I...</td>\n",
       "      <td>12</td>\n",
       "      <td>(Conversation started, Joined conversation, Gu...</td>\n",
       "    </tr>\n",
       "  </tbody>\n",
       "</table>\n",
       "<p>3 rows × 21 columns</p>\n",
       "</div>"
      ],
      "text/plain": [
       "     itemId messageType messageDirection                  case  \\\n",
       "0  33137034    exchange         internal  ch surveillance lync   \n",
       "1  33137034    exchange         internal  ch surveillance lync   \n",
       "2  33137034    exchange         internal  ch surveillance lync   \n",
       "\n",
       "           captureDate   policyAction       statusMarkDate        status  \\\n",
       "0  14.06.2017 07:38:08  not specified  20.06.2017 09:29:44  not relevant   \n",
       "1  14.06.2017 07:38:08  not specified  20.06.2017 09:29:44  not relevant   \n",
       "2  14.06.2017 07:38:08  not specified  20.06.2017 09:29:44  not relevant   \n",
       "\n",
       "  status_reviewer          commentDate  \\\n",
       "0        reviewer  14.06.2017 10:02:30   \n",
       "1        reviewer  14.06.2017 10:02:30   \n",
       "2        reviewer  14.06.2017 10:02:30   \n",
       "\n",
       "                         ...                         comment_reviewer  \\\n",
       "0                        ...                                 reviewer   \n",
       "1                        ...                                 reviewer   \n",
       "2                        ...                                 reviewer   \n",
       "\n",
       "                                        participants  \\\n",
       "0  (nan, person1 (tbl);person2 (zun), person2 (zun))   \n",
       "1  (nan, person1 (tbl);person2 (zun), person2 (zun))   \n",
       "2  (nan, person1 (tbl);person2 (zun), person2 (zun))   \n",
       "\n",
       "                            timestamp language         sender  \\\n",
       "0  date dienstag, 13. juni 2017 14:30       en  person2 (zun)   \n",
       "1  date dienstag, 13. juni 2017 14:30       en  person2 (zun)   \n",
       "2  date dienstag, 13. juni 2017 14:30       en  person2 (zun)   \n",
       "\n",
       "                        recipients                                    subject  \\\n",
       "0  person1 (tbl);person2 (zun);nan  IMChat MicrosoftUC Conversation #64240715   \n",
       "1  person1 (tbl);person2 (zun);nan  IMChat MicrosoftUC Conversation #64240715   \n",
       "2  person1 (tbl);person2 (zun);nan  IMChat MicrosoftUC Conversation #64240715   \n",
       "\n",
       "                                        conversation  \\\n",
       "0              Sent Time (CEST) Network Message I...   \n",
       "1              Sent Time (CEST) Network Message I...   \n",
       "2              Sent Time (CEST) Network Message I...   \n",
       "\n",
       "  num_of_conversation_turns                                           messages  \n",
       "0                        12  (1Conversation started, Joined conversation, G...  \n",
       "1                        12  (Conversation started, Joined conversation, Gu...  \n",
       "2                        12  (Conversation started, Joined conversation, Gu...  \n",
       "\n",
       "[3 rows x 21 columns]"
      ]
     },
     "execution_count": 4,
     "metadata": {},
     "output_type": "execute_result"
    }
   ],
   "source": [
    "strings.head()"
   ]
  },
  {
   "cell_type": "code",
   "execution_count": 5,
   "metadata": {},
   "outputs": [
    {
     "data": {
      "text/plain": [
       "True"
      ]
     },
     "execution_count": 5,
     "metadata": {},
     "output_type": "execute_result"
    }
   ],
   "source": [
    "from os import listdir\n",
    "from os.path import join, isfile, isdir\n",
    "from util import read_folder\n",
    "isdir(\"NLP/Emails/\")"
   ]
  },
  {
   "cell_type": "code",
   "execution_count": 6,
   "metadata": {},
   "outputs": [],
   "source": [
    "redundant = get_redundaunt_info(strings)\n",
    "total_redundant = redundant.sum()"
   ]
  },
  {
   "cell_type": "code",
   "execution_count": 7,
   "metadata": {},
   "outputs": [],
   "source": [
    "from re import findall\n",
    "unnecessary1 = strings['sender'].apply(lambda x: len(findall(\"^gg.*\", x.lower())) > 0)\n",
    "unnecessary2 = strings['participants'].apply(lambda x: sum([len(findall(\"^gg.*|\\;gg.*\", y)) for y in x]) > 0)\n",
    "unnecessary = unnecessary1 | unnecessary2\n",
    "total_unnecessary = unnecessary.sum()"
   ]
  },
  {
   "cell_type": "code",
   "execution_count": 8,
   "metadata": {},
   "outputs": [
    {
     "data": {
      "text/html": [
       "<div>\n",
       "<style>\n",
       "    .dataframe thead tr:only-child th {\n",
       "        text-align: right;\n",
       "    }\n",
       "\n",
       "    .dataframe thead th {\n",
       "        text-align: left;\n",
       "    }\n",
       "\n",
       "    .dataframe tbody tr th {\n",
       "        vertical-align: top;\n",
       "    }\n",
       "</style>\n",
       "<table border=\"1\" class=\"dataframe\">\n",
       "  <thead>\n",
       "    <tr style=\"text-align: right;\">\n",
       "      <th></th>\n",
       "      <th>itemId</th>\n",
       "      <th>messageType</th>\n",
       "      <th>messageDirection</th>\n",
       "      <th>case</th>\n",
       "      <th>captureDate</th>\n",
       "      <th>policyAction</th>\n",
       "      <th>statusMarkDate</th>\n",
       "      <th>status</th>\n",
       "      <th>status_reviewer</th>\n",
       "      <th>commentDate</th>\n",
       "      <th>...</th>\n",
       "      <th>comment_reviewer</th>\n",
       "      <th>participants</th>\n",
       "      <th>timestamp</th>\n",
       "      <th>language</th>\n",
       "      <th>sender</th>\n",
       "      <th>recipients</th>\n",
       "      <th>subject</th>\n",
       "      <th>conversation</th>\n",
       "      <th>num_of_conversation_turns</th>\n",
       "      <th>messages</th>\n",
       "    </tr>\n",
       "  </thead>\n",
       "  <tbody>\n",
       "    <tr>\n",
       "      <th>0</th>\n",
       "      <td>33137034</td>\n",
       "      <td>exchange</td>\n",
       "      <td>internal</td>\n",
       "      <td>ch surveillance lync</td>\n",
       "      <td>14.06.2017 07:38:08</td>\n",
       "      <td>not specified</td>\n",
       "      <td>20.06.2017 09:29:44</td>\n",
       "      <td>not relevant</td>\n",
       "      <td>reviewer</td>\n",
       "      <td>14.06.2017 10:02:30</td>\n",
       "      <td>...</td>\n",
       "      <td>reviewer</td>\n",
       "      <td>(nan, person1 (tbl);person2 (zun), person2 (zun))</td>\n",
       "      <td>date dienstag, 13. juni 2017 14:30</td>\n",
       "      <td>en</td>\n",
       "      <td>person2 (zun)</td>\n",
       "      <td>person1 (tbl);person2 (zun);nan</td>\n",
       "      <td>IMChat MicrosoftUC Conversation #64240715</td>\n",
       "      <td>Sent Time (CEST) Network Message I...</td>\n",
       "      <td>12</td>\n",
       "      <td>(1Conversation started, Joined conversation, G...</td>\n",
       "    </tr>\n",
       "    <tr>\n",
       "      <th>1</th>\n",
       "      <td>33137034</td>\n",
       "      <td>exchange</td>\n",
       "      <td>internal</td>\n",
       "      <td>ch surveillance lync</td>\n",
       "      <td>14.06.2017 07:38:08</td>\n",
       "      <td>not specified</td>\n",
       "      <td>20.06.2017 09:29:44</td>\n",
       "      <td>not relevant</td>\n",
       "      <td>reviewer</td>\n",
       "      <td>14.06.2017 10:02:30</td>\n",
       "      <td>...</td>\n",
       "      <td>reviewer</td>\n",
       "      <td>(nan, person1 (tbl);person2 (zun), person2 (zun))</td>\n",
       "      <td>date dienstag, 13. juni 2017 14:30</td>\n",
       "      <td>en</td>\n",
       "      <td>person2 (zun)</td>\n",
       "      <td>person1 (tbl);person2 (zun);nan</td>\n",
       "      <td>IMChat MicrosoftUC Conversation #64240715</td>\n",
       "      <td>Sent Time (CEST) Network Message I...</td>\n",
       "      <td>12</td>\n",
       "      <td>(Conversation started, Joined conversation, Gu...</td>\n",
       "    </tr>\n",
       "    <tr>\n",
       "      <th>2</th>\n",
       "      <td>33137034</td>\n",
       "      <td>exchange</td>\n",
       "      <td>internal</td>\n",
       "      <td>ch surveillance lync</td>\n",
       "      <td>14.06.2017 07:38:08</td>\n",
       "      <td>not specified</td>\n",
       "      <td>20.06.2017 09:29:44</td>\n",
       "      <td>not relevant</td>\n",
       "      <td>reviewer</td>\n",
       "      <td>14.06.2017 10:02:30</td>\n",
       "      <td>...</td>\n",
       "      <td>reviewer</td>\n",
       "      <td>(nan, person1 (tbl);person2 (zun), person2 (zun))</td>\n",
       "      <td>date dienstag, 13. juni 2017 14:30</td>\n",
       "      <td>en</td>\n",
       "      <td>person2 (zun)</td>\n",
       "      <td>person1 (tbl);person2 (zun);nan</td>\n",
       "      <td>IMChat MicrosoftUC Conversation #64240715</td>\n",
       "      <td>Sent Time (CEST) Network Message I...</td>\n",
       "      <td>12</td>\n",
       "      <td>(Conversation started, Joined conversation, Gu...</td>\n",
       "    </tr>\n",
       "  </tbody>\n",
       "</table>\n",
       "<p>3 rows × 21 columns</p>\n",
       "</div>"
      ],
      "text/plain": [
       "     itemId messageType messageDirection                  case  \\\n",
       "0  33137034    exchange         internal  ch surveillance lync   \n",
       "1  33137034    exchange         internal  ch surveillance lync   \n",
       "2  33137034    exchange         internal  ch surveillance lync   \n",
       "\n",
       "           captureDate   policyAction       statusMarkDate        status  \\\n",
       "0  14.06.2017 07:38:08  not specified  20.06.2017 09:29:44  not relevant   \n",
       "1  14.06.2017 07:38:08  not specified  20.06.2017 09:29:44  not relevant   \n",
       "2  14.06.2017 07:38:08  not specified  20.06.2017 09:29:44  not relevant   \n",
       "\n",
       "  status_reviewer          commentDate  \\\n",
       "0        reviewer  14.06.2017 10:02:30   \n",
       "1        reviewer  14.06.2017 10:02:30   \n",
       "2        reviewer  14.06.2017 10:02:30   \n",
       "\n",
       "                         ...                         comment_reviewer  \\\n",
       "0                        ...                                 reviewer   \n",
       "1                        ...                                 reviewer   \n",
       "2                        ...                                 reviewer   \n",
       "\n",
       "                                        participants  \\\n",
       "0  (nan, person1 (tbl);person2 (zun), person2 (zun))   \n",
       "1  (nan, person1 (tbl);person2 (zun), person2 (zun))   \n",
       "2  (nan, person1 (tbl);person2 (zun), person2 (zun))   \n",
       "\n",
       "                            timestamp language         sender  \\\n",
       "0  date dienstag, 13. juni 2017 14:30       en  person2 (zun)   \n",
       "1  date dienstag, 13. juni 2017 14:30       en  person2 (zun)   \n",
       "2  date dienstag, 13. juni 2017 14:30       en  person2 (zun)   \n",
       "\n",
       "                        recipients                                    subject  \\\n",
       "0  person1 (tbl);person2 (zun);nan  IMChat MicrosoftUC Conversation #64240715   \n",
       "1  person1 (tbl);person2 (zun);nan  IMChat MicrosoftUC Conversation #64240715   \n",
       "2  person1 (tbl);person2 (zun);nan  IMChat MicrosoftUC Conversation #64240715   \n",
       "\n",
       "                                        conversation  \\\n",
       "0              Sent Time (CEST) Network Message I...   \n",
       "1              Sent Time (CEST) Network Message I...   \n",
       "2              Sent Time (CEST) Network Message I...   \n",
       "\n",
       "  num_of_conversation_turns                                           messages  \n",
       "0                        12  (1Conversation started, Joined conversation, G...  \n",
       "1                        12  (Conversation started, Joined conversation, Gu...  \n",
       "2                        12  (Conversation started, Joined conversation, Gu...  \n",
       "\n",
       "[3 rows x 21 columns]"
      ]
     },
     "execution_count": 8,
     "metadata": {},
     "output_type": "execute_result"
    }
   ],
   "source": [
    "# Deduplication\n",
    "strings = filter_senders(strings)\n",
    "strings.head()"
   ]
  },
  {
   "cell_type": "code",
   "execution_count": 9,
   "metadata": {},
   "outputs": [
    {
     "data": {
      "text/html": [
       "<div>\n",
       "<style>\n",
       "    .dataframe thead tr:only-child th {\n",
       "        text-align: right;\n",
       "    }\n",
       "\n",
       "    .dataframe thead th {\n",
       "        text-align: left;\n",
       "    }\n",
       "\n",
       "    .dataframe tbody tr th {\n",
       "        vertical-align: top;\n",
       "    }\n",
       "</style>\n",
       "<table border=\"1\" class=\"dataframe\">\n",
       "  <thead>\n",
       "    <tr style=\"text-align: right;\">\n",
       "      <th></th>\n",
       "      <th>itemId</th>\n",
       "      <th>messageType</th>\n",
       "      <th>messageDirection</th>\n",
       "      <th>case</th>\n",
       "      <th>captureDate</th>\n",
       "      <th>policyAction</th>\n",
       "      <th>statusMarkDate</th>\n",
       "      <th>status</th>\n",
       "      <th>status_reviewer</th>\n",
       "      <th>commentDate</th>\n",
       "      <th>...</th>\n",
       "      <th>comment_reviewer</th>\n",
       "      <th>participants</th>\n",
       "      <th>timestamp</th>\n",
       "      <th>language</th>\n",
       "      <th>sender</th>\n",
       "      <th>recipients</th>\n",
       "      <th>subject</th>\n",
       "      <th>conversation</th>\n",
       "      <th>num_of_conversation_turns</th>\n",
       "      <th>messages</th>\n",
       "    </tr>\n",
       "  </thead>\n",
       "  <tbody>\n",
       "    <tr>\n",
       "      <th>0</th>\n",
       "      <td>33137034</td>\n",
       "      <td>exchange</td>\n",
       "      <td>internal</td>\n",
       "      <td>ch surveillance lync</td>\n",
       "      <td>14.06.2017 07:38:08</td>\n",
       "      <td>not specified</td>\n",
       "      <td>20.06.2017 09:29:44</td>\n",
       "      <td>not relevant</td>\n",
       "      <td>reviewer</td>\n",
       "      <td>14.06.2017 10:02:30</td>\n",
       "      <td>...</td>\n",
       "      <td>reviewer</td>\n",
       "      <td>(nan, person1 (tbl);person2 (zun), person2 (zun))</td>\n",
       "      <td>date dienstag, 13. juni 2017 14:30</td>\n",
       "      <td>en</td>\n",
       "      <td>person2 (zun)</td>\n",
       "      <td>person1 (tbl);person2 (zun);nan</td>\n",
       "      <td>IMChat MicrosoftUC Conversation #64240715</td>\n",
       "      <td>Sent Time (CEST) Network Message I...</td>\n",
       "      <td>12</td>\n",
       "      <td>(1Conversation started, Joined conversation, G...</td>\n",
       "    </tr>\n",
       "    <tr>\n",
       "      <th>1</th>\n",
       "      <td>33137034</td>\n",
       "      <td>exchange</td>\n",
       "      <td>internal</td>\n",
       "      <td>ch surveillance lync</td>\n",
       "      <td>14.06.2017 07:38:08</td>\n",
       "      <td>not specified</td>\n",
       "      <td>20.06.2017 09:29:44</td>\n",
       "      <td>not relevant</td>\n",
       "      <td>reviewer</td>\n",
       "      <td>14.06.2017 10:02:30</td>\n",
       "      <td>...</td>\n",
       "      <td>reviewer</td>\n",
       "      <td>(nan, person1 (tbl);person2 (zun), person2 (zun))</td>\n",
       "      <td>date dienstag, 13. juni 2017 14:30</td>\n",
       "      <td>en</td>\n",
       "      <td>person2 (zun)</td>\n",
       "      <td>person1 (tbl);person2 (zun);nan</td>\n",
       "      <td>IMChat MicrosoftUC Conversation #64240715</td>\n",
       "      <td>Sent Time (CEST) Network Message I...</td>\n",
       "      <td>12</td>\n",
       "      <td>(Conversation started, Joined conversation, Gu...</td>\n",
       "    </tr>\n",
       "    <tr>\n",
       "      <th>2</th>\n",
       "      <td>33137034</td>\n",
       "      <td>exchange</td>\n",
       "      <td>internal</td>\n",
       "      <td>ch surveillance lync</td>\n",
       "      <td>14.06.2017 07:38:08</td>\n",
       "      <td>not specified</td>\n",
       "      <td>20.06.2017 09:29:44</td>\n",
       "      <td>not relevant</td>\n",
       "      <td>reviewer</td>\n",
       "      <td>14.06.2017 10:02:30</td>\n",
       "      <td>...</td>\n",
       "      <td>reviewer</td>\n",
       "      <td>(nan, person1 (tbl);person2 (zun), person2 (zun))</td>\n",
       "      <td>date dienstag, 13. juni 2017 14:30</td>\n",
       "      <td>en</td>\n",
       "      <td>person2 (zun)</td>\n",
       "      <td>person1 (tbl);person2 (zun);nan</td>\n",
       "      <td>IMChat MicrosoftUC Conversation #64240715</td>\n",
       "      <td>Sent Time (CEST) Network Message I...</td>\n",
       "      <td>12</td>\n",
       "      <td>(Conversation started, Joined conversation, Gu...</td>\n",
       "    </tr>\n",
       "  </tbody>\n",
       "</table>\n",
       "<p>3 rows × 21 columns</p>\n",
       "</div>"
      ],
      "text/plain": [
       "     itemId messageType messageDirection                  case  \\\n",
       "0  33137034    exchange         internal  ch surveillance lync   \n",
       "1  33137034    exchange         internal  ch surveillance lync   \n",
       "2  33137034    exchange         internal  ch surveillance lync   \n",
       "\n",
       "           captureDate   policyAction       statusMarkDate        status  \\\n",
       "0  14.06.2017 07:38:08  not specified  20.06.2017 09:29:44  not relevant   \n",
       "1  14.06.2017 07:38:08  not specified  20.06.2017 09:29:44  not relevant   \n",
       "2  14.06.2017 07:38:08  not specified  20.06.2017 09:29:44  not relevant   \n",
       "\n",
       "  status_reviewer          commentDate  \\\n",
       "0        reviewer  14.06.2017 10:02:30   \n",
       "1        reviewer  14.06.2017 10:02:30   \n",
       "2        reviewer  14.06.2017 10:02:30   \n",
       "\n",
       "                         ...                         comment_reviewer  \\\n",
       "0                        ...                                 reviewer   \n",
       "1                        ...                                 reviewer   \n",
       "2                        ...                                 reviewer   \n",
       "\n",
       "                                        participants  \\\n",
       "0  (nan, person1 (tbl);person2 (zun), person2 (zun))   \n",
       "1  (nan, person1 (tbl);person2 (zun), person2 (zun))   \n",
       "2  (nan, person1 (tbl);person2 (zun), person2 (zun))   \n",
       "\n",
       "                            timestamp language         sender  \\\n",
       "0  date dienstag, 13. juni 2017 14:30       en  person2 (zun)   \n",
       "1  date dienstag, 13. juni 2017 14:30       en  person2 (zun)   \n",
       "2  date dienstag, 13. juni 2017 14:30       en  person2 (zun)   \n",
       "\n",
       "                        recipients                                    subject  \\\n",
       "0  person1 (tbl);person2 (zun);nan  IMChat MicrosoftUC Conversation #64240715   \n",
       "1  person1 (tbl);person2 (zun);nan  IMChat MicrosoftUC Conversation #64240715   \n",
       "2  person1 (tbl);person2 (zun);nan  IMChat MicrosoftUC Conversation #64240715   \n",
       "\n",
       "                                        conversation  \\\n",
       "0              Sent Time (CEST) Network Message I...   \n",
       "1              Sent Time (CEST) Network Message I...   \n",
       "2              Sent Time (CEST) Network Message I...   \n",
       "\n",
       "  num_of_conversation_turns                                           messages  \n",
       "0                        12  (1Conversation started, Joined conversation, G...  \n",
       "1                        12  (Conversation started, Joined conversation, Gu...  \n",
       "2                        12  (Conversation started, Joined conversation, Gu...  \n",
       "\n",
       "[3 rows x 21 columns]"
      ]
     },
     "execution_count": 9,
     "metadata": {},
     "output_type": "execute_result"
    }
   ],
   "source": [
    "strings = filter_recipients(strings)\n",
    "strings.head()"
   ]
  },
  {
   "cell_type": "code",
   "execution_count": 10,
   "metadata": {},
   "outputs": [
    {
     "data": {
      "text/html": [
       "<div>\n",
       "<style>\n",
       "    .dataframe thead tr:only-child th {\n",
       "        text-align: right;\n",
       "    }\n",
       "\n",
       "    .dataframe thead th {\n",
       "        text-align: left;\n",
       "    }\n",
       "\n",
       "    .dataframe tbody tr th {\n",
       "        vertical-align: top;\n",
       "    }\n",
       "</style>\n",
       "<table border=\"1\" class=\"dataframe\">\n",
       "  <thead>\n",
       "    <tr style=\"text-align: right;\">\n",
       "      <th></th>\n",
       "      <th>participants</th>\n",
       "      <th>timestamp</th>\n",
       "      <th>messages</th>\n",
       "    </tr>\n",
       "  </thead>\n",
       "  <tbody>\n",
       "    <tr>\n",
       "      <th>0</th>\n",
       "      <td>(nan, person1 (tbl);person2 (zun), person2 (zun))</td>\n",
       "      <td>2017/06/13</td>\n",
       "      <td>(1Conversation started, Joined conversation, G...</td>\n",
       "    </tr>\n",
       "    <tr>\n",
       "      <th>1</th>\n",
       "      <td>(nan, person1 (tbl);person2 (zun), person2 (zun))</td>\n",
       "      <td>2017/06/13</td>\n",
       "      <td>(Conversation started, Joined conversation, Gu...</td>\n",
       "    </tr>\n",
       "  </tbody>\n",
       "</table>\n",
       "</div>"
      ],
      "text/plain": [
       "                                        participants   timestamp  \\\n",
       "0  (nan, person1 (tbl);person2 (zun), person2 (zun))  2017/06/13   \n",
       "1  (nan, person1 (tbl);person2 (zun), person2 (zun))  2017/06/13   \n",
       "\n",
       "                                            messages  \n",
       "0  (1Conversation started, Joined conversation, G...  \n",
       "1  (Conversation started, Joined conversation, Gu...  "
      ]
     },
     "execution_count": 10,
     "metadata": {},
     "output_type": "execute_result"
    }
   ],
   "source": [
    "strings = filter_data(strings)\n",
    "strings.head()"
   ]
  },
  {
   "cell_type": "code",
   "execution_count": 11,
   "metadata": {},
   "outputs": [
    {
     "data": {
      "text/plain": [
       "(2, 3)"
      ]
     },
     "execution_count": 11,
     "metadata": {},
     "output_type": "execute_result"
    }
   ],
   "source": [
    "strings.shape"
   ]
  },
  {
   "cell_type": "code",
   "execution_count": 12,
   "metadata": {},
   "outputs": [],
   "source": [
    "strings1 = strings.drop(['messages'], axis = 1).reset_index(drop = True)\n",
    "strings = strings['messages'].reset_index(drop = True)\n",
    "strings = strings.apply(lambda x: \" \".join(x))\n",
    "strings = strings.apply(clean_strings)"
   ]
  },
  {
   "cell_type": "code",
   "execution_count": 13,
   "metadata": {},
   "outputs": [],
   "source": [
    "# Identifying keyword hits\n",
    "hits = strings.apply(lambda x: search_patterns(x, patterns))\n",
    "hits['any'] = hits.apply(sum, axis = 0)\n",
    "hit_strings = strings[hits['any'] > 0]\n",
    "# hit_strings = strings[hits]"
   ]
  },
  {
   "cell_type": "code",
   "execution_count": 14,
   "metadata": {},
   "outputs": [],
   "source": [
    "# Language filter for downstream NLP\n",
    "languages = strings.apply(detect_language)\n",
    "\n",
    "# Picking the language with highest probability\n",
    "first_language = languages.apply(pick_first_language)\n",
    "\n",
    "# Keeping only English text\n",
    "english_only = first_language.apply(is_english_wp_p)\n",
    "strings = strings[english_only]\n",
    "# labels = labels[english_only].tolist()"
   ]
  },
  {
   "cell_type": "code",
   "execution_count": 15,
   "metadata": {},
   "outputs": [],
   "source": [
    "# Processing English sentences:\n",
    "# 1) Splitting sentences\n",
    "sentences = strings.apply(tokenize_treetagger)\n",
    "lengths = sentences.apply(len).tolist()\n",
    "# new_labels = []\n",
    "# for i in range(len(lengths)):\n",
    "#     for j in range(lengths[i]):\n",
    "#         new_labels.append(labels[i])\n",
    "# new_labels = Series(new_labels)\n",
    "# sentences1 = flatten_list_of_list(sentences)"
   ]
  },
  {
   "cell_type": "code",
   "execution_count": 16,
   "metadata": {},
   "outputs": [],
   "source": [
    "# 2) Run part-of-speech tagging on clean sentences\n",
    "sentences1 = sentences.apply(lambda x: \" \".join(x))\n",
    "pos = sentences1.apply(run_treetagger_pos_tag_text).apply(DataFrame)"
   ]
  },
  {
   "cell_type": "code",
   "execution_count": 17,
   "metadata": {},
   "outputs": [],
   "source": [
    "# 3) Spell correct - currently correct only disjoint words\n",
    "lengths = pos.apply(len)\n",
    "inc_sentences = sentences1[lengths == 0]\n",
    "# inc_labels = new_labels[lengths == 0]\n",
    "pos = pos[lengths > 0]\n",
    "# labels = new_labels[lengths > 0]\n",
    "sentence_tokens = pos.apply(spell_correct_tokens)"
   ]
  },
  {
   "cell_type": "code",
   "execution_count": 18,
   "metadata": {},
   "outputs": [
    {
     "data": {
      "text/plain": [
       "0    1conversation started joined conversation guy ...\n",
       "1    conversation started joined conversation guy i...\n",
       "Name: messages, dtype: object"
      ]
     },
     "execution_count": 18,
     "metadata": {},
     "output_type": "execute_result"
    }
   ],
   "source": [
    "sentences1"
   ]
  },
  {
   "cell_type": "code",
   "execution_count": 19,
   "metadata": {},
   "outputs": [
    {
     "name": "stderr",
     "output_type": "stream",
     "text": [
      "C:\\Users\\naveen.nathan\\AppData\\Local\\Continuum\\anaconda3\\lib\\site-packages\\gensim\\utils.py:862: UserWarning: detected Windows; aliasing chunkize to chunkize_serial\n",
      "  warnings.warn(\"detected Windows; aliasing chunkize to chunkize_serial\")\n",
      "Using TensorFlow backend.\n"
     ]
    }
   ],
   "source": [
    "# 4) Combine tokens to form bigrams and trigrams\n",
    "# sentence_tokens = sentences.apply(tokenize_treetagger)\n",
    "trigrams = apply_bigram_trigram_model(sentence_tokens)"
   ]
  },
  {
   "cell_type": "code",
   "execution_count": 20,
   "metadata": {},
   "outputs": [],
   "source": [
    "# 5) Form the sentence back from tokens\n",
    "sentences1 = [\"\".join([\" \"+lemmatize_treetagger(run_treetagger(i.lower())) if not i.startswith(\"'\") and i not in punctuation\n",
    "                       else i for i in tokens]).strip() for tokens in trigrams]\n",
    "# labels = labels.tolist() + inc_labels.tolist()"
   ]
  },
  {
   "cell_type": "code",
   "execution_count": 21,
   "metadata": {},
   "outputs": [],
   "source": [
    "# 6) Write clean text to text file - one line per sentence\n",
    "out_file = open(\"sample.txt\", \"w\")\n",
    "for sent in sentences1:\n",
    "    out_file.write(sent.lower().replace(\"( \", \"(\").replace(\" )\", \")\").replace(\"replaced-dns \", \"\")+\"\\n\")\n",
    "\n",
    "out_file.close()"
   ]
  },
  {
   "cell_type": "code",
   "execution_count": 22,
   "metadata": {},
   "outputs": [],
   "source": [
    "# 7) Run word2vec model and store word representations\n",
    "model = run_word2vec_model(\"sample.txt\")\n",
    "model.wv.save_word2vec_format(\"big.w2v\")"
   ]
  },
  {
   "cell_type": "code",
   "execution_count": 23,
   "metadata": {},
   "outputs": [
    {
     "data": {
      "image/png": "[encoded data removed]",
      "text/plain": [
       "<matplotlib.figure.Figure at 0xb6558eb588>"
      ]
     },
     "metadata": {},
     "output_type": "display_data"
    }
   ],
   "source": [
    "# 8) Visualizing the word2vec model\n",
    "visualize_word2vec_model(model)"
   ]
  },
  {
   "cell_type": "code",
   "execution_count": 24,
   "metadata": {},
   "outputs": [],
   "source": [
    "# 9) Setting up the data for building logistic regression model\n",
    "#df = zeros((len(sentences1), 100))\n",
    "#for i, words in enumerate(trigrams):\n",
    "#    for word in words:\n",
    "#        try:\n",
    "#            df[i] = df[i] + model[word]\n",
    "#        except:\n",
    "#            continue\n",
    "\n",
    "#while(i<len(sentences1)):\n",
    "#    i += 1\n",
    "#\n",
    "#df = DataFrame(df)\n",
    "#df[label] = labels"
   ]
  },
  {
   "cell_type": "code",
   "execution_count": 25,
   "metadata": {},
   "outputs": [],
   "source": [
    "# 10) Building and saving the logistic regression model with L1 penalty\n",
    "#lr_model = build_logistic_regression(df, label)\n",
    "#dump(lr_model, open(\"logistic_model.pkl\", 'wb'))"
   ]
  },
  {
   "cell_type": "code",
   "execution_count": 26,
   "metadata": {},
   "outputs": [],
   "source": [
    "# 11) Topic modeling (Optional)\n",
    "#lda_model = run_lda_topic_model(text_file = \"sample_cleaned.txt\")\n",
    "# Sample topic modeling output - Topic 1\n",
    "#lda_model.print_topic(1)"
   ]
  },
  {
   "cell_type": "code",
   "execution_count": 27,
   "metadata": {},
   "outputs": [],
   "source": [
    "sim1 = get_semantic_similarity(model)"
   ]
  },
  {
   "cell_type": "code",
   "execution_count": 28,
   "metadata": {
    "scrolled": true
   },
   "outputs": [],
   "source": [
    "vocab = list(model.wv.vocab)"
   ]
  },
  {
   "cell_type": "code",
   "execution_count": 29,
   "metadata": {},
   "outputs": [],
   "source": [
    "ratio = get_character_similarity(vocab, 'ratio')"
   ]
  },
  {
   "cell_type": "code",
   "execution_count": 30,
   "metadata": {},
   "outputs": [],
   "source": [
    "partial_ratio = get_character_similarity(vocab, \"partial_ratio\")"
   ]
  },
  {
   "cell_type": "code",
   "execution_count": 31,
   "metadata": {},
   "outputs": [],
   "source": [
    "token_sort_ratio = get_character_similarity(vocab, \"token_sort_ratio\")"
   ]
  },
  {
   "cell_type": "code",
   "execution_count": 32,
   "metadata": {},
   "outputs": [],
   "source": [
    "token_set_ratio = get_character_similarity(vocab, \"token_set_ratio\")"
   ]
  },
  {
   "cell_type": "code",
   "execution_count": 33,
   "metadata": {},
   "outputs": [],
   "source": [
    "sim1 = sim1[ratio.columns]\n",
    "sim1 = sim1.loc[ratio.columns]"
   ]
  },
  {
   "cell_type": "code",
   "execution_count": 34,
   "metadata": {},
   "outputs": [],
   "source": [
    "semantic_weight = 0.5\n",
    "ratio_weight = 0.4\n",
    "partial_ratio_weight = 0.4\n",
    "token_sort_ratio_weight = 0.1\n",
    "sim = semantic_weight*sim1 + (ratio_weight*ratio + partial_ratio_weight*partial_ratio + token_sort_ratio_weight*token_sort_ratio + (1-ratio_weight-partial_ratio_weight-token_sort_ratio_weight)*token_set_ratio)*(1-semantic_weight)\n",
    "dist = 1 - sim"
   ]
  },
  {
   "cell_type": "code",
   "execution_count": 35,
   "metadata": {},
   "outputs": [],
   "source": [
    "aff = run_aff_prop_with_distances(dist)"
   ]
  },
  {
   "cell_type": "code",
   "execution_count": 36,
   "metadata": {},
   "outputs": [
    {
     "data": {
      "image/png": "[encoded data removed]",
      "text/plain": [
       "<matplotlib.figure.Figure at 0xb6558eb518>"
      ]
     },
     "metadata": {},
     "output_type": "display_data"
    }
   ],
   "source": [
    "visualize_word2vec_model(model, aff.labels_)"
   ]
  },
  {
   "cell_type": "code",
   "execution_count": 37,
   "metadata": {},
   "outputs": [],
   "source": [
    "columns = sim.columns\n",
    "condition = Series(sim.columns).apply(is_in_words)\n",
    "sim = sim.loc[columns[~condition]]\n",
    "sim = sim[columns[condition]]"
   ]
  },
  {
   "cell_type": "code",
   "execution_count": 38,
   "metadata": {},
   "outputs": [
    {
     "data": {
      "text/plain": [
       "b2b               guy\n",
       "cant            sorry\n",
       "im                not\n",
       "nonit            dump\n",
       "ramification      not\n",
       "srp              hook\n",
       "sts              away\n",
       "dtype: object"
      ]
     },
     "execution_count": 38,
     "metadata": {},
     "output_type": "execute_result"
    }
   ],
   "source": [
    "sim.apply(lambda x: x.sort_values().index[0], axis = 1)"
   ]
  },
  {
   "cell_type": "code",
   "execution_count": 39,
   "metadata": {},
   "outputs": [],
   "source": [
    "df = DataFrame(model.wv[model.wv.vocab])\n",
    "df.columns = ['c' + str(i) for i in range(df.shape[1])]\n",
    "km = run_kmeans(model.wv[model.wv.vocab])"
   ]
  },
  {
   "cell_type": "code",
   "execution_count": 40,
   "metadata": {},
   "outputs": [
    {
     "data": {
      "image/png": "[encoded data removed]",
      "text/plain": [
       "<matplotlib.figure.Figure at 0xb655918a58>"
      ]
     },
     "metadata": {},
     "output_type": "display_data"
    }
   ],
   "source": [
    "visualize_word2vec_model(model, km.cluster)"
   ]
  }
 ],
 "metadata": {
  "kernelspec": {
   "display_name": "Python 3",
   "language": "python",
   "name": "python3"
  },
  "language_info": {
   "codemirror_mode": {
    "name": "ipython",
    "version": 3
   },
   "file_extension": ".py",
   "mimetype": "text/x-python",
   "name": "python",
   "nbconvert_exporter": "python",
   "pygments_lexer": "ipython3",
   "version": "3.6.3"
  }
 },
 "nbformat": 4,
 "nbformat_minor": 2
}

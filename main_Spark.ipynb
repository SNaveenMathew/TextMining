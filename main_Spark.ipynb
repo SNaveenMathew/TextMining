{
 "cells": [
  {
   "cell_type": "code",
   "execution_count": 1,
   "metadata": {},
   "outputs": [],
   "source": [
    "# Initializing Spark\n",
    "with open(\"setupPySpark.py\", \"r\") as setup_file:\n",
    "    exec(setup_file.read())\n"
   ]
  },
  {
   "cell_type": "code",
   "execution_count": 2,
   "metadata": {},
   "outputs": [],
   "source": [
    "# Spark context\n",
    "from pyspark.sql.session import SparkSession\n",
    "\n",
    "spark = SparkSession(sc)"
   ]
  },
  {
   "cell_type": "code",
   "execution_count": 3,
   "metadata": {},
   "outputs": [],
   "source": [
    "# SQL context\n",
    "from pyspark.sql import SQLContext\n",
    "\n",
    "sqlContext = SQLContext(sc)"
   ]
  },
  {
   "cell_type": "code",
   "execution_count": 4,
   "metadata": {},
   "outputs": [],
   "source": [
    "# Importing required functions\n",
    "from util import read_file, read_folder, get_character_similarity\n",
    "from pandas import Series, DataFrame\n",
    "from util_spark import remove_stopwords_spark, detect_language_spark, flatten_list_of_tokens, spell_correct_tokens_spark, get_semantic_similarity_spark\n",
    "from tokenization_spark import tokenize_sentence_nltk_spark\n",
    "from pyspark.sql.functions import col\n",
    "from pos_tagging_spark import run_treetagger_pos_tag_spark\n",
    "from modeling_spark import run_word2vec_model_pyspark"
   ]
  },
  {
   "cell_type": "code",
   "execution_count": 5,
   "metadata": {},
   "outputs": [],
   "source": [
    "# Reading input file(s) using python's default libraries\n",
    "in_file = open(\"in_file.cfg\").read()\n",
    "in_file = in_file.split(\"\\n\")\n",
    "patterns_file = in_file[5]\n",
    "file_folder = in_file[4]\n",
    "label = in_file[3]\n",
    "column = in_file[2]\n",
    "in_type = in_file[1]\n",
    "in_file = in_file[0]\n",
    "if file_folder == \"file\":\n",
    "    strings = read_file(in_file, in_type = in_type)\n",
    "    if in_type == \"text\":\n",
    "        strings = tokenize_sentence_nltk(strings)\n",
    "        strings = DataFrame(strings)[0]\n",
    "    elif in_type == \"html\":\n",
    "        timestamp = strings[2]\n",
    "        meta_data = strings[1]\n",
    "        strings = strings[0]\n",
    "        strings[label] = meta_data[\"Comment\"]\n",
    "        labels = strings[label]\n",
    "        strings = strings[column]\n",
    "    else:\n",
    "        if label in strings.columns:\n",
    "            labels = strings[label]\n",
    "        strings = strings[column]\n",
    "else:\n",
    "    strings = read_folder(in_file, in_type = in_type)\n",
    "    patterns = Series([\".*\" + x + \".*\" for x in open(patterns_file, 'r').readlines()])"
   ]
  },
  {
   "cell_type": "code",
   "execution_count": 6,
   "metadata": {},
   "outputs": [],
   "source": [
    "# Appending conversation together and creating spark data frome\n",
    "strings['conversation'] = strings['conversation'].apply(lambda x: \". \".join(x[\"Message\"]))\n",
    "sentenceDataFrame = spark.createDataFrame(strings)"
   ]
  },
  {
   "cell_type": "code",
   "execution_count": 7,
   "metadata": {},
   "outputs": [],
   "source": [
    "# Creating list of sentences for each conversation\n",
    "sentenceDataFrame = tokenize_sentence_nltk_spark(df = sentenceDataFrame, in_col = \"conversation\")"
   ]
  },
  {
   "cell_type": "code",
   "execution_count": 8,
   "metadata": {},
   "outputs": [],
   "source": [
    "# Language identification and filtering\n",
    "sentenceDataFrame = detect_language_spark(df = sentenceDataFrame, in_col = \"conversation\", out_col = \"language\")\n",
    "sentenceDataFrame = sentenceDataFrame.where(col('language') == \"en\")"
   ]
  },
  {
   "cell_type": "code",
   "execution_count": 9,
   "metadata": {},
   "outputs": [],
   "source": [
    "# POS tagging and lemmatization using TreeTagger\n",
    "sentenceDataFrame = run_treetagger_pos_tag_spark(df = sentenceDataFrame, in_col = \"conversation\", out_col = \"pos\", get_lemma = True)"
   ]
  },
  {
   "cell_type": "code",
   "execution_count": 10,
   "metadata": {},
   "outputs": [],
   "source": [
    "# Merging 2 consecutive words if a) Words are incorrectly spelled and b) Merged word is correctly spelled\n",
    "sentenceDataFrame = spell_correct_tokens_spark(df = sentenceDataFrame, in_col = \"pos\")"
   ]
  },
  {
   "cell_type": "code",
   "execution_count": 11,
   "metadata": {},
   "outputs": [],
   "source": [
    "# Flattening out token of rows and running word2vec model\n",
    "sentenceDataFrame = flatten_list_of_tokens(sentenceDataFrame, in_col = \"pos\")\n",
    "model, sentenceDataFrame = run_word2vec_model_pyspark(sentenceDataFrame, in_col = \"pos\", vec_size = 100, in_type = \"tokens\", out_col = \"result\")"
   ]
  },
  {
   "cell_type": "code",
   "execution_count": 12,
   "metadata": {},
   "outputs": [],
   "source": [
    "# Collecting document vectors in a list\n",
    "doc_vecs = []\n",
    "for row in sentenceDataFrame.select('result').collect():\n",
    "    doc_vecs = doc_vecs + [row['result']]"
   ]
  },
  {
   "cell_type": "code",
   "execution_count": 13,
   "metadata": {},
   "outputs": [],
   "source": [
    "sim1 = get_semantic_similarity_spark(model)"
   ]
  },
  {
   "cell_type": "code",
   "execution_count": 14,
   "metadata": {},
   "outputs": [
    {
     "data": {
      "text/html": [
       "<div>\n",
       "<style>\n",
       "    .dataframe thead tr:only-child th {\n",
       "        text-align: right;\n",
       "    }\n",
       "\n",
       "    .dataframe thead th {\n",
       "        text-align: left;\n",
       "    }\n",
       "\n",
       "    .dataframe tbody tr th {\n",
       "        vertical-align: top;\n",
       "    }\n",
       "</style>\n",
       "<table border=\"1\" class=\"dataframe\">\n",
       "  <thead>\n",
       "    <tr style=\"text-align: right;\">\n",
       "      <th></th>\n",
       "      <th>for</th>\n",
       "      <th>this</th>\n",
       "      <th>in</th>\n",
       "      <th>move</th>\n",
       "      <th>have</th>\n",
       "      <th>your</th>\n",
       "      <th>point</th>\n",
       "      <th>guy</th>\n",
       "      <th>b2b</th>\n",
       "      <th>agree</th>\n",
       "      <th>...</th>\n",
       "      <th>no</th>\n",
       "      <th>we</th>\n",
       "      <th>let</th>\n",
       "      <th>ramification</th>\n",
       "      <th>when</th>\n",
       "      <th>away</th>\n",
       "      <th>and</th>\n",
       "      <th>today</th>\n",
       "      <th>the</th>\n",
       "      <th>cant</th>\n",
       "    </tr>\n",
       "  </thead>\n",
       "  <tbody>\n",
       "    <tr>\n",
       "      <th>for</th>\n",
       "      <td>1.000000</td>\n",
       "      <td>0.134573</td>\n",
       "      <td>-0.178252</td>\n",
       "      <td>0.074515</td>\n",
       "      <td>0.011317</td>\n",
       "      <td>0.030545</td>\n",
       "      <td>0.050908</td>\n",
       "      <td>-0.206047</td>\n",
       "      <td>-0.061516</td>\n",
       "      <td>-0.148625</td>\n",
       "      <td>...</td>\n",
       "      <td>-0.005031</td>\n",
       "      <td>0.008286</td>\n",
       "      <td>0.043558</td>\n",
       "      <td>0.012839</td>\n",
       "      <td>0.004365</td>\n",
       "      <td>-0.161527</td>\n",
       "      <td>0.059483</td>\n",
       "      <td>-0.019999</td>\n",
       "      <td>-0.271658</td>\n",
       "      <td>0.024824</td>\n",
       "    </tr>\n",
       "    <tr>\n",
       "      <th>this</th>\n",
       "      <td>0.134573</td>\n",
       "      <td>1.000000</td>\n",
       "      <td>0.084741</td>\n",
       "      <td>0.001460</td>\n",
       "      <td>0.135461</td>\n",
       "      <td>-0.132793</td>\n",
       "      <td>-0.073039</td>\n",
       "      <td>-0.160185</td>\n",
       "      <td>0.032266</td>\n",
       "      <td>0.035617</td>\n",
       "      <td>...</td>\n",
       "      <td>0.166186</td>\n",
       "      <td>0.107087</td>\n",
       "      <td>-0.051598</td>\n",
       "      <td>0.233857</td>\n",
       "      <td>-0.036789</td>\n",
       "      <td>0.041292</td>\n",
       "      <td>0.098604</td>\n",
       "      <td>0.052540</td>\n",
       "      <td>0.166813</td>\n",
       "      <td>0.042530</td>\n",
       "    </tr>\n",
       "    <tr>\n",
       "      <th>in</th>\n",
       "      <td>-0.178252</td>\n",
       "      <td>0.084741</td>\n",
       "      <td>1.000000</td>\n",
       "      <td>0.089618</td>\n",
       "      <td>-0.115539</td>\n",
       "      <td>-0.039701</td>\n",
       "      <td>-0.002061</td>\n",
       "      <td>0.002920</td>\n",
       "      <td>-0.056720</td>\n",
       "      <td>-0.122512</td>\n",
       "      <td>...</td>\n",
       "      <td>-0.049752</td>\n",
       "      <td>0.118345</td>\n",
       "      <td>0.169684</td>\n",
       "      <td>-0.031200</td>\n",
       "      <td>-0.016943</td>\n",
       "      <td>-0.090282</td>\n",
       "      <td>0.162128</td>\n",
       "      <td>0.025246</td>\n",
       "      <td>0.099597</td>\n",
       "      <td>-0.030526</td>\n",
       "    </tr>\n",
       "    <tr>\n",
       "      <th>move</th>\n",
       "      <td>0.074515</td>\n",
       "      <td>0.001460</td>\n",
       "      <td>0.089618</td>\n",
       "      <td>1.000000</td>\n",
       "      <td>0.158001</td>\n",
       "      <td>-0.137687</td>\n",
       "      <td>0.183042</td>\n",
       "      <td>-0.073193</td>\n",
       "      <td>-0.072524</td>\n",
       "      <td>0.178970</td>\n",
       "      <td>...</td>\n",
       "      <td>0.099382</td>\n",
       "      <td>0.038360</td>\n",
       "      <td>0.010177</td>\n",
       "      <td>-0.018346</td>\n",
       "      <td>0.095216</td>\n",
       "      <td>-0.085638</td>\n",
       "      <td>-0.079254</td>\n",
       "      <td>0.011398</td>\n",
       "      <td>-0.000120</td>\n",
       "      <td>0.138376</td>\n",
       "    </tr>\n",
       "    <tr>\n",
       "      <th>have</th>\n",
       "      <td>0.011317</td>\n",
       "      <td>0.135461</td>\n",
       "      <td>-0.115539</td>\n",
       "      <td>0.158001</td>\n",
       "      <td>1.000000</td>\n",
       "      <td>-0.286646</td>\n",
       "      <td>0.037367</td>\n",
       "      <td>-0.053461</td>\n",
       "      <td>-0.070606</td>\n",
       "      <td>0.137010</td>\n",
       "      <td>...</td>\n",
       "      <td>-0.114118</td>\n",
       "      <td>-0.009014</td>\n",
       "      <td>-0.059815</td>\n",
       "      <td>-0.039275</td>\n",
       "      <td>-0.034229</td>\n",
       "      <td>-0.016343</td>\n",
       "      <td>-0.067755</td>\n",
       "      <td>-0.103216</td>\n",
       "      <td>0.153610</td>\n",
       "      <td>-0.074666</td>\n",
       "    </tr>\n",
       "  </tbody>\n",
       "</table>\n",
       "<p>5 rows × 80 columns</p>\n",
       "</div>"
      ],
      "text/plain": [
       "           for      this        in      move      have      your     point  \\\n",
       "for   1.000000  0.134573 -0.178252  0.074515  0.011317  0.030545  0.050908   \n",
       "this  0.134573  1.000000  0.084741  0.001460  0.135461 -0.132793 -0.073039   \n",
       "in   -0.178252  0.084741  1.000000  0.089618 -0.115539 -0.039701 -0.002061   \n",
       "move  0.074515  0.001460  0.089618  1.000000  0.158001 -0.137687  0.183042   \n",
       "have  0.011317  0.135461 -0.115539  0.158001  1.000000 -0.286646  0.037367   \n",
       "\n",
       "           guy       b2b     agree    ...           no        we       let  \\\n",
       "for  -0.206047 -0.061516 -0.148625    ...    -0.005031  0.008286  0.043558   \n",
       "this -0.160185  0.032266  0.035617    ...     0.166186  0.107087 -0.051598   \n",
       "in    0.002920 -0.056720 -0.122512    ...    -0.049752  0.118345  0.169684   \n",
       "move -0.073193 -0.072524  0.178970    ...     0.099382  0.038360  0.010177   \n",
       "have -0.053461 -0.070606  0.137010    ...    -0.114118 -0.009014 -0.059815   \n",
       "\n",
       "      ramification      when      away       and     today       the      cant  \n",
       "for       0.012839  0.004365 -0.161527  0.059483 -0.019999 -0.271658  0.024824  \n",
       "this      0.233857 -0.036789  0.041292  0.098604  0.052540  0.166813  0.042530  \n",
       "in       -0.031200 -0.016943 -0.090282  0.162128  0.025246  0.099597 -0.030526  \n",
       "move     -0.018346  0.095216 -0.085638 -0.079254  0.011398 -0.000120  0.138376  \n",
       "have     -0.039275 -0.034229 -0.016343 -0.067755 -0.103216  0.153610 -0.074666  \n",
       "\n",
       "[5 rows x 80 columns]"
      ]
     },
     "execution_count": 14,
     "metadata": {},
     "output_type": "execute_result"
    }
   ],
   "source": [
    "sim1.head()"
   ]
  },
  {
   "cell_type": "code",
   "execution_count": 15,
   "metadata": {},
   "outputs": [],
   "source": [
    "ratio = get_character_similarity(sim1.columns, ratio_type = 'ratio')"
   ]
  },
  {
   "cell_type": "code",
   "execution_count": 16,
   "metadata": {},
   "outputs": [],
   "source": [
    "partial_ratio = get_character_similarity(sim1.columns, ratio_type = 'partial_ratio')"
   ]
  },
  {
   "cell_type": "code",
   "execution_count": 17,
   "metadata": {},
   "outputs": [],
   "source": [
    "token_sort_ratio = get_character_similarity(sim1.columns, ratio_type = 'token_sort_ratio')"
   ]
  },
  {
   "cell_type": "code",
   "execution_count": 18,
   "metadata": {},
   "outputs": [],
   "source": [
    "token_set_ratio = get_character_similarity(sim1.columns, ratio_type = 'token_set_ratio')"
   ]
  },
  {
   "cell_type": "code",
   "execution_count": 19,
   "metadata": {},
   "outputs": [],
   "source": [
    "sim1 = sim1[ratio.columns]\n",
    "sim1 = sim1.loc[ratio.columns]"
   ]
  },
  {
   "cell_type": "code",
   "execution_count": 20,
   "metadata": {},
   "outputs": [],
   "source": [
    "semantic_weight = 0.5\n",
    "ratio_weight = 0.4\n",
    "partial_ratio_weight = 0.4\n",
    "token_sort_ratio_weight = 0.1\n",
    "sim = 1 - (semantic_weight*sim1 + (ratio_weight*ratio + partial_ratio_weight*partial_ratio + token_sort_ratio_weight*token_sort_ratio + (1-ratio_weight-partial_ratio_weight-token_sort_ratio_weight)*token_set_ratio)*(1-semantic_weight))"
   ]
  }
 ],
 "metadata": {
  "kernelspec": {
   "display_name": "Python 3",
   "language": "python",
   "name": "python3"
  },
  "language_info": {
   "codemirror_mode": {
    "name": "ipython",
    "version": 3
   },
   "file_extension": ".py",
   "mimetype": "text/x-python",
   "name": "python",
   "nbconvert_exporter": "python",
   "pygments_lexer": "ipython3",
   "version": "3.6.3"
  }
 },
 "nbformat": 4,
 "nbformat_minor": 2
}

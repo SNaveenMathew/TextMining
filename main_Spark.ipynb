{
 "cells": [
  {
   "cell_type": "code",
   "execution_count": 1,
   "metadata": {},
   "outputs": [],
   "source": [
    "# Initializing Spark\n",
    "with open(\"setupPySpark.py\", \"r\") as setup_file:\n",
    "    exec(setup_file.read())\n"
   ]
  },
  {
   "cell_type": "code",
   "execution_count": 2,
   "metadata": {},
   "outputs": [],
   "source": [
    "# Spark context\n",
    "from pyspark.sql.session import SparkSession\n",
    "\n",
    "spark = SparkSession(sc)"
   ]
  },
  {
   "cell_type": "code",
   "execution_count": 3,
   "metadata": {},
   "outputs": [],
   "source": [
    "# SQL context\n",
    "from pyspark.sql import SQLContext\n",
    "\n",
    "sqlContext = SQLContext(sc)"
   ]
  },
  {
   "cell_type": "code",
   "execution_count": 11,
   "metadata": {},
   "outputs": [],
   "source": [
    "# Importing required functions\n",
    "from util import read_file, read_folder, get_character_similarity\n",
    "from pandas import Series, DataFrame\n",
    "from util_spark import remove_stopwords_spark, detect_language_spark, flatten_list_of_tokens, spell_correct_tokens_spark, get_semantic_similarity_spark\n",
    "from tokenization_spark import tokenize_sentence_nltk_spark\n",
    "from pyspark.sql.functions import col\n",
    "from pos_tagging_spark import run_treetagger_pos_tag_spark\n",
    "from modeling_spark import run_word2vec_model_pyspark\n",
    "from json import load"
   ]
  },
  {
   "cell_type": "code",
   "execution_count": 12,
   "metadata": {},
   "outputs": [],
   "source": [
    "# Reading input file(s) using python's default libraries\n",
    "in_file = load(open(\"in_file.cfg\"))\n",
    "patterns_file = in_file[\"patterns_file\"]\n",
    "file_folder = in_file[\"file_folder\"]\n",
    "label = in_file[\"label\"]\n",
    "column = in_file[\"column\"]\n",
    "in_type = in_file[\"in_type\"]\n",
    "in_file = in_file[\"in_file\"]\n",
    "if file_folder == \"file\":\n",
    "    strings = read_file(in_file, in_type = in_type)\n",
    "    if in_type == \"text\":\n",
    "        strings = tokenize_sentence_nltk(strings)\n",
    "        strings = DataFrame(strings)[0]\n",
    "    elif in_type == \"html_chat\":\n",
    "        timestamp = strings[2]\n",
    "        meta_data = strings[1]\n",
    "        strings = strings[0]\n",
    "        strings[label] = meta_data[\"Comment\"]\n",
    "        labels = strings[label]\n",
    "        strings = strings[column]\n",
    "    else:\n",
    "        if label in strings.columns:\n",
    "            labels = strings[label]\n",
    "        strings = strings[column]\n",
    "else:\n",
    "    strings = read_folder(in_file, in_type = in_type)\n",
    "    patterns = Series([\".*\" + x + \".*\" for x in open(patterns_file, 'r').readlines()])"
   ]
  },
  {
   "cell_type": "code",
   "execution_count": 6,
   "metadata": {},
   "outputs": [],
   "source": [
    "# Appending conversation together and creating spark data frome\n",
    "try:\n",
    "    strings['conversation'] = strings['conversation'].apply(lambda x: \". \".join(x[\"Message\"]))\n",
    "except:\n",
    "    pass\n",
    "sentenceDataFrame = spark.createDataFrame(strings)"
   ]
  },
  {
   "cell_type": "code",
   "execution_count": 7,
   "metadata": {},
   "outputs": [],
   "source": [
    "# Creating list of sentences for each conversation\n",
    "sentenceDataFrame = tokenize_sentence_nltk_spark(df = sentenceDataFrame, in_col = \"conversation\")"
   ]
  },
  {
   "cell_type": "code",
   "execution_count": 8,
   "metadata": {},
   "outputs": [],
   "source": [
    "# Language identification and filtering\n",
    "sentenceDataFrame = detect_language_spark(df = sentenceDataFrame, in_col = \"conversation\", out_col = \"language\")\n",
    "sentenceDataFrame = sentenceDataFrame.where(col('language') == \"en\")"
   ]
  },
  {
   "cell_type": "code",
   "execution_count": 9,
   "metadata": {},
   "outputs": [],
   "source": [
    "# POS tagging and lemmatization using TreeTagger\n",
    "sentenceDataFrame = run_treetagger_pos_tag_spark(df = sentenceDataFrame, in_col = \"conversation\", out_col = \"pos\", get_lemma = True)"
   ]
  },
  {
   "cell_type": "code",
   "execution_count": 10,
   "metadata": {},
   "outputs": [],
   "source": [
    "# Merging 2 consecutive words if a) Words are incorrectly spelled and b) Merged word is correctly spelled\n",
    "sentenceDataFrame = spell_correct_tokens_spark(df = sentenceDataFrame, in_col = \"pos\")"
   ]
  },
  {
   "cell_type": "code",
   "execution_count": 11,
   "metadata": {},
   "outputs": [],
   "source": [
    "# Flattening out token of rows and running word2vec model\n",
    "sentenceDataFrame = flatten_list_of_tokens(sentenceDataFrame, in_col = \"pos\")\n",
    "model, sentenceDataFrame = run_word2vec_model_pyspark(sentenceDataFrame, in_col = \"pos\", vec_size = 100, in_type = \"tokens\", out_col = \"result\")"
   ]
  },
  {
   "cell_type": "code",
   "execution_count": 12,
   "metadata": {},
   "outputs": [],
   "source": [
    "# Collecting document vectors in a list\n",
    "doc_vecs = []\n",
    "for row in sentenceDataFrame.select('result').collect():\n",
    "    doc_vecs = doc_vecs + [row['result']]"
   ]
  },
  {
   "cell_type": "code",
   "execution_count": 13,
   "metadata": {},
   "outputs": [],
   "source": [
    "sim1 = get_semantic_similarity_spark(model)"
   ]
  },
  {
   "cell_type": "code",
   "execution_count": 14,
   "metadata": {},
   "outputs": [
    {
     "data": {
      "text/html": [
       "<div>\n",
       "<style>\n",
       "    .dataframe thead tr:only-child th {\n",
       "        text-align: right;\n",
       "    }\n",
       "\n",
       "    .dataframe thead th {\n",
       "        text-align: left;\n",
       "    }\n",
       "\n",
       "    .dataframe tbody tr th {\n",
       "        vertical-align: top;\n",
       "    }\n",
       "</style>\n",
       "<table border=\"1\" class=\"dataframe\">\n",
       "  <thead>\n",
       "    <tr style=\"text-align: right;\">\n",
       "      <th></th>\n",
       "      <th>for</th>\n",
       "      <th>this</th>\n",
       "      <th>in</th>\n",
       "      <th>move</th>\n",
       "      <th>have</th>\n",
       "      <th>your</th>\n",
       "      <th>point</th>\n",
       "      <th>guy</th>\n",
       "      <th>b2b</th>\n",
       "      <th>agree</th>\n",
       "      <th>...</th>\n",
       "      <th>no</th>\n",
       "      <th>we</th>\n",
       "      <th>let</th>\n",
       "      <th>ramification</th>\n",
       "      <th>when</th>\n",
       "      <th>away</th>\n",
       "      <th>and</th>\n",
       "      <th>today</th>\n",
       "      <th>the</th>\n",
       "      <th>cant</th>\n",
       "    </tr>\n",
       "  </thead>\n",
       "  <tbody>\n",
       "    <tr>\n",
       "      <th>for</th>\n",
       "      <td>1.000000</td>\n",
       "      <td>-0.105910</td>\n",
       "      <td>0.000170</td>\n",
       "      <td>-0.069652</td>\n",
       "      <td>0.040336</td>\n",
       "      <td>0.069056</td>\n",
       "      <td>0.092621</td>\n",
       "      <td>0.056477</td>\n",
       "      <td>0.079010</td>\n",
       "      <td>0.165845</td>\n",
       "      <td>...</td>\n",
       "      <td>-0.022835</td>\n",
       "      <td>0.008508</td>\n",
       "      <td>-0.000052</td>\n",
       "      <td>0.074926</td>\n",
       "      <td>-0.033127</td>\n",
       "      <td>-0.054825</td>\n",
       "      <td>-0.124980</td>\n",
       "      <td>0.152799</td>\n",
       "      <td>0.007628</td>\n",
       "      <td>0.017553</td>\n",
       "    </tr>\n",
       "    <tr>\n",
       "      <th>this</th>\n",
       "      <td>-0.105910</td>\n",
       "      <td>1.000000</td>\n",
       "      <td>-0.069082</td>\n",
       "      <td>0.003931</td>\n",
       "      <td>0.060735</td>\n",
       "      <td>0.146523</td>\n",
       "      <td>-0.044929</td>\n",
       "      <td>0.096866</td>\n",
       "      <td>0.305122</td>\n",
       "      <td>-0.158147</td>\n",
       "      <td>...</td>\n",
       "      <td>-0.064297</td>\n",
       "      <td>0.052718</td>\n",
       "      <td>-0.028738</td>\n",
       "      <td>-0.034106</td>\n",
       "      <td>0.012105</td>\n",
       "      <td>0.140868</td>\n",
       "      <td>-0.031277</td>\n",
       "      <td>0.017369</td>\n",
       "      <td>-0.196300</td>\n",
       "      <td>-0.056384</td>\n",
       "    </tr>\n",
       "    <tr>\n",
       "      <th>in</th>\n",
       "      <td>0.000170</td>\n",
       "      <td>-0.069082</td>\n",
       "      <td>1.000000</td>\n",
       "      <td>-0.037609</td>\n",
       "      <td>-0.059549</td>\n",
       "      <td>0.070181</td>\n",
       "      <td>0.036973</td>\n",
       "      <td>-0.034291</td>\n",
       "      <td>-0.063641</td>\n",
       "      <td>-0.062104</td>\n",
       "      <td>...</td>\n",
       "      <td>-0.034954</td>\n",
       "      <td>0.124539</td>\n",
       "      <td>-0.146022</td>\n",
       "      <td>0.064458</td>\n",
       "      <td>-0.079840</td>\n",
       "      <td>0.228045</td>\n",
       "      <td>-0.057792</td>\n",
       "      <td>-0.202181</td>\n",
       "      <td>0.109813</td>\n",
       "      <td>0.019643</td>\n",
       "    </tr>\n",
       "    <tr>\n",
       "      <th>move</th>\n",
       "      <td>-0.069652</td>\n",
       "      <td>0.003931</td>\n",
       "      <td>-0.037609</td>\n",
       "      <td>1.000000</td>\n",
       "      <td>-0.126582</td>\n",
       "      <td>-0.048928</td>\n",
       "      <td>0.046263</td>\n",
       "      <td>0.021864</td>\n",
       "      <td>0.034268</td>\n",
       "      <td>-0.074104</td>\n",
       "      <td>...</td>\n",
       "      <td>0.036902</td>\n",
       "      <td>0.004310</td>\n",
       "      <td>0.156517</td>\n",
       "      <td>0.016187</td>\n",
       "      <td>-0.010523</td>\n",
       "      <td>0.028652</td>\n",
       "      <td>0.049523</td>\n",
       "      <td>-0.021243</td>\n",
       "      <td>-0.058675</td>\n",
       "      <td>-0.041668</td>\n",
       "    </tr>\n",
       "    <tr>\n",
       "      <th>have</th>\n",
       "      <td>0.040336</td>\n",
       "      <td>0.060735</td>\n",
       "      <td>-0.059549</td>\n",
       "      <td>-0.126582</td>\n",
       "      <td>1.000000</td>\n",
       "      <td>-0.037032</td>\n",
       "      <td>-0.220678</td>\n",
       "      <td>-0.119094</td>\n",
       "      <td>0.068659</td>\n",
       "      <td>-0.055997</td>\n",
       "      <td>...</td>\n",
       "      <td>-0.105475</td>\n",
       "      <td>0.043235</td>\n",
       "      <td>-0.009960</td>\n",
       "      <td>0.138637</td>\n",
       "      <td>-0.109652</td>\n",
       "      <td>0.012543</td>\n",
       "      <td>-0.024905</td>\n",
       "      <td>0.033226</td>\n",
       "      <td>-0.038240</td>\n",
       "      <td>-0.002423</td>\n",
       "    </tr>\n",
       "  </tbody>\n",
       "</table>\n",
       "<p>5 rows × 80 columns</p>\n",
       "</div>"
      ],
      "text/plain": [
       "           for      this        in      move      have      your     point  \\\n",
       "for   1.000000 -0.105910  0.000170 -0.069652  0.040336  0.069056  0.092621   \n",
       "this -0.105910  1.000000 -0.069082  0.003931  0.060735  0.146523 -0.044929   \n",
       "in    0.000170 -0.069082  1.000000 -0.037609 -0.059549  0.070181  0.036973   \n",
       "move -0.069652  0.003931 -0.037609  1.000000 -0.126582 -0.048928  0.046263   \n",
       "have  0.040336  0.060735 -0.059549 -0.126582  1.000000 -0.037032 -0.220678   \n",
       "\n",
       "           guy       b2b     agree    ...           no        we       let  \\\n",
       "for   0.056477  0.079010  0.165845    ...    -0.022835  0.008508 -0.000052   \n",
       "this  0.096866  0.305122 -0.158147    ...    -0.064297  0.052718 -0.028738   \n",
       "in   -0.034291 -0.063641 -0.062104    ...    -0.034954  0.124539 -0.146022   \n",
       "move  0.021864  0.034268 -0.074104    ...     0.036902  0.004310  0.156517   \n",
       "have -0.119094  0.068659 -0.055997    ...    -0.105475  0.043235 -0.009960   \n",
       "\n",
       "      ramification      when      away       and     today       the      cant  \n",
       "for       0.074926 -0.033127 -0.054825 -0.124980  0.152799  0.007628  0.017553  \n",
       "this     -0.034106  0.012105  0.140868 -0.031277  0.017369 -0.196300 -0.056384  \n",
       "in        0.064458 -0.079840  0.228045 -0.057792 -0.202181  0.109813  0.019643  \n",
       "move      0.016187 -0.010523  0.028652  0.049523 -0.021243 -0.058675 -0.041668  \n",
       "have      0.138637 -0.109652  0.012543 -0.024905  0.033226 -0.038240 -0.002423  \n",
       "\n",
       "[5 rows x 80 columns]"
      ]
     },
     "execution_count": 14,
     "metadata": {},
     "output_type": "execute_result"
    }
   ],
   "source": [
    "sim1.head()"
   ]
  },
  {
   "cell_type": "code",
   "execution_count": 15,
   "metadata": {},
   "outputs": [],
   "source": [
    "ratio = get_character_similarity(sim1.columns, ratio_type = 'ratio')"
   ]
  },
  {
   "cell_type": "code",
   "execution_count": 16,
   "metadata": {},
   "outputs": [],
   "source": [
    "partial_ratio = get_character_similarity(sim1.columns, ratio_type = 'partial_ratio')"
   ]
  },
  {
   "cell_type": "code",
   "execution_count": 17,
   "metadata": {},
   "outputs": [],
   "source": [
    "token_sort_ratio = get_character_similarity(sim1.columns, ratio_type = 'token_sort_ratio')"
   ]
  },
  {
   "cell_type": "code",
   "execution_count": 18,
   "metadata": {},
   "outputs": [],
   "source": [
    "token_set_ratio = get_character_similarity(sim1.columns, ratio_type = 'token_set_ratio')"
   ]
  },
  {
   "cell_type": "code",
   "execution_count": 19,
   "metadata": {},
   "outputs": [],
   "source": [
    "sim1 = sim1[ratio.columns]\n",
    "sim1 = sim1.loc[ratio.columns]"
   ]
  },
  {
   "cell_type": "code",
   "execution_count": 20,
   "metadata": {},
   "outputs": [],
   "source": [
    "semantic_weight = 0.5\n",
    "ratio_weight = 0.4\n",
    "partial_ratio_weight = 0.4\n",
    "token_sort_ratio_weight = 0.1\n",
    "sim = 1 - (semantic_weight*sim1 + (ratio_weight*ratio + partial_ratio_weight*partial_ratio + token_sort_ratio_weight*token_sort_ratio + (1-ratio_weight-partial_ratio_weight-token_sort_ratio_weight)*token_set_ratio)*(1-semantic_weight))"
   ]
  }
 ],
 "metadata": {
  "kernelspec": {
   "display_name": "Python 3",
   "language": "python",
   "name": "python3"
  },
  "language_info": {
   "codemirror_mode": {
    "name": "ipython",
    "version": 3
   },
   "file_extension": ".py",
   "mimetype": "text/x-python",
   "name": "python",
   "nbconvert_exporter": "python",
   "pygments_lexer": "ipython3",
   "version": "3.6.3"
  }
 },
 "nbformat": 4,
 "nbformat_minor": 2
}

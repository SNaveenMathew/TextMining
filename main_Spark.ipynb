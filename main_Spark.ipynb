{
 "cells": [
  {
   "cell_type": "code",
   "execution_count": 1,
   "metadata": {},
   "outputs": [],
   "source": [
    "# Initializing Spark\n",
    "with open(\"setupPySpark.py\", \"r\") as setup_file:\n",
    "    exec(setup_file.read())\n"
   ]
  },
  {
   "cell_type": "code",
   "execution_count": 2,
   "metadata": {},
   "outputs": [],
   "source": [
    "from pyspark.sql.session import SparkSession\n",
    "\n",
    "spark = SparkSession(sc)"
   ]
  },
  {
   "cell_type": "code",
   "execution_count": 3,
   "metadata": {},
   "outputs": [],
   "source": [
    "from pyspark.sql import SQLContext\n",
    "\n",
    "sqlContext = SQLContext(sc)"
   ]
  },
  {
   "cell_type": "code",
   "execution_count": 4,
   "metadata": {},
   "outputs": [],
   "source": [
    "from util import read_file, read_folder\n",
    "from pandas import Series\n",
    "from util_spark import remove_stopwords_spark\n",
    "from tokenization_spark import tokenize_sentence_nltk_spark\n",
    "from pyspark.sql.functions import col\n",
    "from util_spark import detect_language_spark\n",
    "from pos_tagging_spark import run_treetagger_pos_tag_spark"
   ]
  },
  {
   "cell_type": "code",
   "execution_count": 5,
   "metadata": {},
   "outputs": [],
   "source": [
    "in_file = open(\"in_file.cfg\").read()\n",
    "in_file = in_file.split(\"\\n\")\n",
    "patterns_file = in_file[5]\n",
    "file_folder = in_file[4]\n",
    "label = in_file[3]\n",
    "column = in_file[2]\n",
    "in_type = in_file[1]\n",
    "in_file = in_file[0]\n",
    "if file_folder == \"file\":\n",
    "    strings = read_file(in_file, in_type = in_type)\n",
    "    if in_type == \"text\":\n",
    "        strings = tokenize_sentence_nltk(strings)\n",
    "        strings = DataFrame(strings)[0]\n",
    "    elif in_type == \"html\":\n",
    "        timestamp = strings[2]\n",
    "        meta_data = strings[1]\n",
    "        strings = strings[0]\n",
    "        strings[label] = meta_data[\"Comment\"]\n",
    "        labels = strings[label]\n",
    "        strings = strings[column]\n",
    "    else:\n",
    "        if label in strings.columns:\n",
    "            labels = strings[label]\n",
    "        strings = strings[column]\n",
    "else:\n",
    "    strings = read_folder(in_file, in_type = in_type)\n",
    "    patterns = Series([\".*\" + x + \".*\" for x in open(patterns_file, 'r').readlines()])"
   ]
  },
  {
   "cell_type": "code",
   "execution_count": 6,
   "metadata": {},
   "outputs": [],
   "source": [
    "# Appending conversation together and creating spark data frome\n",
    "strings['conversation'] = strings['conversation'].apply(lambda x: \". \".join(x[\"Message\"]))\n",
    "sentenceDataFrame = spark.createDataFrame(strings)"
   ]
  },
  {
   "cell_type": "code",
   "execution_count": 7,
   "metadata": {},
   "outputs": [],
   "source": [
    "# Creating list of sentences for each conversation\n",
    "sentenceDataFrame = tokenize_sentence_nltk_spark(df = sentenceDataFrame, in_col = \"conversation\")"
   ]
  },
  {
   "cell_type": "code",
   "execution_count": 8,
   "metadata": {},
   "outputs": [],
   "source": [
    "# Language identification and filtering\n",
    "sentenceDataFrame = detect_language_spark(df = sentenceDataFrame, in_col = \"conversation\", out_col = \"language\")\n",
    "sentenceDataFrame = sentenceDataFrame.where(col('language') == \"en\")"
   ]
  },
  {
   "cell_type": "code",
   "execution_count": 9,
   "metadata": {},
   "outputs": [
    {
     "name": "stdout",
     "output_type": "stream",
     "text": [
      "+---------------------------------------------------------------------------------------------------------------------------------------------------------------------------------------------------------------------------------------------------------------------------------------------------------------------------------------------------------------------------------------------------------------------------------------------------------------------------------------------------------------------------------------------------------------------------------------------------------------------------------------------------------------------------------------------------------------------------------------------------------------------------------------------------------------------------------------------------------------------------------------------------------------------------------------------------------------------------------------------------------------------------------------------------------------------------------------------------------------------------------------------------------------------------------------------------------------------------------------------------------------------------------------------------------------------------------------------------------------------------------------------------------------------------------------------------------------------------------------------------------------------------------------------------------------------------------------------------------------+\n",
      "|pos                                                                                                                                                                                                                                                                                                                                                                                                                                                                                                                                                                                                                                                                                                                                                                                                                                                                                                                                                                                                                                                                                                                                                                                                                                                                                                                                                                                                                                                                                                                                                                                                            |\n",
      "+---------------------------------------------------------------------------------------------------------------------------------------------------------------------------------------------------------------------------------------------------------------------------------------------------------------------------------------------------------------------------------------------------------------------------------------------------------------------------------------------------------------------------------------------------------------------------------------------------------------------------------------------------------------------------------------------------------------------------------------------------------------------------------------------------------------------------------------------------------------------------------------------------------------------------------------------------------------------------------------------------------------------------------------------------------------------------------------------------------------------------------------------------------------------------------------------------------------------------------------------------------------------------------------------------------------------------------------------------------------------------------------------------------------------------------------------------------------------------------------------------------------------------------------------------------------------------------------------------------------+\n",
      "|[[[1conversation, NP], [start, VVD], [., SENT]], [[join, VVN], [conversation, NN], [., SENT]], [[guy, NN], [im, NP], [really, RB], [sorry, JJ], [but, CC], [i, NP], [do, VVD], [not, RB], [agree, VV], [to, TO], [this, DT], [when, WRB], [we, PP], [move, VVD], [the, DT], [it, PP], [project, VVP], [., SENT]], [[happy, JJ], [to, TO], [discuss, VV], [briefly, RB], [., SENT]], [[im, NP], [in, IN], [london, NN], [today, NN], [and, CC], [tomorrow, NN], [., SENT]], [[let, VVZ], [try, VV], [and, CC], [hook, VV], [up, RP], [even, RB], [for, IN], [a, DT], [few, JJ], [min, NNS], [unfortunately, RB], [i, NP], [be, VBP], [absolutely, RB], [b2b, NN], [there, EX], [will, MD], [be, VB], [ramification, NNS], [on, IN], [this, DT], [we, PP], [have, VHD], [explicit, JJ], [agreement, NN], [repeatedly, RB], [that, IN/that], [this, DT], [would, MD], [be, VB], [fund, VVN], [now, RB], [have, VHG], [do, VVN], [the, DT], [work, NN], [that, WDT], [be, VBZ], [no, RB], [longer, RBR], [the, DT], [case, NN], [., SENT]], [[i, NNS], [see, VVP], [your, PP$], [point, NN], [but, CC], [srp, NNS], [fund, VVN], [for, IN], [nonit, NN], [., SENT]], [[we, PP], [just, RB], [take, VVD], [over, RP], [the, DT], [it, PP], [project, VVP], [., SENT]], [[and, CC], [move, VVN], [onto, IN], [an, DT], [sts, NN], [it, PP], [project, VVP], [., SENT]], [[tom, NN], [cant, VVP], [just, RB], [step, VV], [away, RB], [from, IN], [this, DT], [and, CC], [dump, VV], [it, PP], [somewhere, RB], [else, RB], [., SENT]], [[left, JJ], [conversation, NN], [., SENT]], [[conversation, NN], [end, VVD]]]|\n",
      "+---------------------------------------------------------------------------------------------------------------------------------------------------------------------------------------------------------------------------------------------------------------------------------------------------------------------------------------------------------------------------------------------------------------------------------------------------------------------------------------------------------------------------------------------------------------------------------------------------------------------------------------------------------------------------------------------------------------------------------------------------------------------------------------------------------------------------------------------------------------------------------------------------------------------------------------------------------------------------------------------------------------------------------------------------------------------------------------------------------------------------------------------------------------------------------------------------------------------------------------------------------------------------------------------------------------------------------------------------------------------------------------------------------------------------------------------------------------------------------------------------------------------------------------------------------------------------------------------------------------+\n",
      "only showing top 1 row\n",
      "\n"
     ]
    }
   ],
   "source": [
    "# POS tagging and lemmatization using TreeTagger\n",
    "sentenceDataFrame = run_treetagger_pos_tag_spark(df = sentenceDataFrame, in_col = \"conversation\", out_col = \"pos\", get_lemma = True)\n",
    "sentenceDataFrame.select(['pos']).show(1, truncate = False)"
   ]
  }
 ],
 "metadata": {
  "kernelspec": {
   "display_name": "Python 3",
   "language": "python",
   "name": "python3"
  },
  "language_info": {
   "codemirror_mode": {
    "name": "ipython",
    "version": 3
   },
   "file_extension": ".py",
   "mimetype": "text/x-python",
   "name": "python",
   "nbconvert_exporter": "python",
   "pygments_lexer": "ipython3",
   "version": "3.6.3"
  }
 },
 "nbformat": 4,
 "nbformat_minor": 2
}
